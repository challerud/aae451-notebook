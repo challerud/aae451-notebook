{
 "cells": [
  {
   "cell_type": "markdown",
   "metadata": {},
   "source": [
    "# Constraint Analysis\n",
    "\n",
    "* This notebooks shows you how to create a constraint analysis diagram. The numbers here are rough estimates. You should further refine and verify these numbers with your team. You may wish to add additional constraints, or remove existing constraints, to represent the reuqirements in the RFP.\n",
    "\n",
    "## Definitions\n",
    "* Thrust to Weight Ratio: Sea-level static thrust/ Maximum takeoff weight\n",
    "* Wing Loading: Maximum takeoff weight / wing area\n",
    "\n",
    "## Why use Casadi?\n",
    "* Automatic differentiation (computes gradients for you)\n",
    "* Overkill for this application, but can be used in later stages of your design cycle when optimizations get more complex"
   ]
  },
  {
   "cell_type": "code",
   "execution_count": 1,
   "metadata": {},
   "outputs": [],
   "source": [
    "import casadi as ca\n",
    "import numpy as np\n",
    "import matplotlib.pyplot as plt\n",
    "plt.rcParams['figure.figsize'] = (15, 7)  # makes figures larger by default"
   ]
  },
  {
   "cell_type": "markdown",
   "metadata": {},
   "source": [
    "### Master Equation for Jet\n",
    "\n",
    "See Mattingly Chapter 2, and Loftin Chapter 7.\n",
    "\n",
    "$$\\frac{T}{W} = \\frac{\\beta}{\\alpha} \\left\\{\n",
    "    \\frac{q}{\\beta}\\left[\n",
    "        \\frac{C_{D_0} + C_{D_C}}{W/S} + \\frac{1}{\\pi AR e} \\left(\\frac{n \\beta}{q}\\right)^2 \\frac{W}{S}\n",
    "    \\right]\n",
    "    + \\frac{1}{V} \\frac{dh}{dt} + \\frac{1}{g} \\frac{dV}{dt}\n",
    "    \\right\\}$$"
   ]
  },
  {
   "cell_type": "code",
   "execution_count": 2,
   "metadata": {},
   "outputs": [],
   "source": [
    "def atmosphere(h):\n",
    "    # http://fisicaatmo.at.fcen.uba.ar/practicas/ISAweb.pdf\n",
    "    # https://www.engineeringtoolbox.com/elevation-speed-sound-air-d_1534.html\n",
    "    p0 = 101325\n", # [Pa]
    "    rho0 = 1.225\n", # [kg/m^3]
    "    T0 = 288.15\n", # [K]
    "    a0 = 340.294\n", # speed of sound, [m/s] 
    "    g0 = 9.80665\n", # gravity [m/s^2]
    "    R = 287.04\n", # [J/(mol*K)]
    "    \n",
    "    p_cruise = 30184\n", # [Pa]
    "    T_cruise = 228.65\n", # [K]
    "    h_cruise = 9144\n", # altitude [m] 
    "    \n",
    "    if h < 11000: # troposphere\n",
    "        T = T0 - 6.5*h/1000\n",
    "        p = p0*(1 - 0.0065*h/T0)**5.2561\n",
    "    elif h < 25000:  # lower stratosphere\n",
    "        T = T_cruise\n",
    "        p = p_cruise*np.exp(-g0*(h - h_cruise)/(R*T_cruise))\n",
    "    else:\n",
    "        raise ValueError('invalid altitude: ', h)\n",
    "    rho = p/(R*T)\n",
    "    gamma = 1.4\n",
    "    a = np.sqrt(gamma*R*T)\n",
    "    return {\n",
    "        'T': T,\n",
    "        'a': a,\n",
    "        'p': p,\n",
    "        'rho': rho\n",
    "    }"
   ]
  },
  {
   "cell_type": "code",
   "execution_count": 3,
   "metadata": {},
   "outputs": [
    {
     "data": {
      "text/plain": [
       "{'T': 223.14999999999998,\n",
       " 'a': 299.45645159188,\n",
       " 'p': 26434.754590986628,\n",
       " 'rho': 0.41270142687806777}"
      ]
     },
     "execution_count": 3,
     "metadata": {},
     "output_type": "execute_result"
    }
   ],
   "source": [
    "atmosphere(10000)"
   ]
  },
  {
   "cell_type": "code",
   "execution_count": 4,
   "metadata": {},
   "outputs": [],
   "source": [
    "def T_W_cruise(W_S):\n",
    "    # cruise flight, master equation\n",
    "    h = 9144  # altitutde\n",
    "    atmos_data = atmosphere(h)\n",
    "    V = 0.7*atmos_data['a'] # cruise velocity (0.7 Mach), [m/s]\n",
    "    rho = atmos_data['rho'] # air density, [kg/m^3]\n",
    "    beta = 0.985  # weight fraction (current weight/gross weight), []\n",
    "    \n",
    "    AR = 6  # aspect ratio, []\n",
    "    g = 9.80665 # accel of gravity, [m/s^2]\n",
    "    q = 0.5*rho*V**2  # dynamic pressure at cruise\n",
    "    alpha = 0.3 # engine lapse rate (thrust/ thrust sea level), []\n",
    "    e = 0.795 # oswald efficiency factor\n",
    "    V_climb = 0 # climb rate, [m/s]\n",
    "    n = 1 # load_factor (L/W), 1 when in steady level flight, >1 when turning, []\n",
    "    CD0 = 0.02 # Parasite Drag Coefficient, []\n",
    "    CDC = 0  # Compressibility Drag Coefficient, []\n",
    "    accel = 0  # acceleration, [m/s^2]\n",
    "    pi = np.pi # constants from numpy\n",
    "\n",
    "    # required thrust to weight\n",
    "    return (beta/alpha)*(\n",
    "        (q/beta)*(\n",
    "            (CD0 + CDC)/W_S\n",
    "            + (1/(pi*AR*e))*(n*beta/q)**2*(W_S)\n",
    "        )\n",
    "        + (1/V)*V_climb + (1/g)*accel\n",
    "    )"
   ]
  },
  {
   "cell_type": "markdown",
   "metadata": {},
   "source": [
    "## Takeoff Distance for V/STOL\n",
    "\n",
    "From Kohlman, page 83\n",
    "$$ S_g = \\left[\\dfrac{W}{\\sigma S C_{L_{TO}}} \\right] \\frac{1}{\\frac{T}{W}} \\dfrac{1}{g \\rho_0}$$"
   ]
  },
  {
   "cell_type": "markdown",
   "metadata": {},
   "source": [
    "This can be rearranged to:\n",
    "$$ \\dfrac{T}{W} = \\left[\\dfrac{\\frac{W}{S}}{\\sigma C_{L_{TO}}} \\right]  \\dfrac{1}{S_g g \\rho_0}$$"
   ]
  },
  {
   "cell_type": "code",
   "execution_count": 5,
   "metadata": {},
   "outputs": [],
   "source": [
    "def T_W_takeoff_distance(W_S):\n",
    "    # stol jet takeoff, non-vectored thrust\n",
    "    # kohlman, pg. 83\n",
    "    CL_TO = 2  # lift coefficient at take-off, []\n",
    "    rho = 1.225  # air density at sea level, [kg/m^3]\n",
    "    sigma = 1  # Area_exit / Area_rotor, []\n",
    "    Sg_min = 305  # minimum takeoff distance, [m], STOL definition https://en.wikipedia.org/wiki/STOL\n",
    "    g = 9.80665 # accel of gravity, [m/s^2]\n",
    "    # reqtured thrust to weight\n",
    "    return (W_S/(sigma*CL_TO))*(1/(Sg_min*g*rho))"
   ]
  },
  {
   "cell_type": "markdown",
   "metadata": {},
   "source": [
    "## Takeoff Distance for V/STOL with Thrust Vectoring\n",
    "\n",
    "$$ S_{g\\theta} = S_g \\sqrt{1 - (T/W)^2} $$\n",
    "\n",
    "Where $S_{g\\theta}$ is the takeoff distance when optimally thrust vectoring, and $S_g$ is the takeoff distance without thrust vectoring."
   ]
  },
  {
   "cell_type": "code",
   "execution_count": 6,
   "metadata": {},
   "outputs": [
    {
     "data": {
      "text/latex": [
       "$\\displaystyle \\frac{T}{W} = \\frac{W}{S} \\sqrt{\\frac{1}{CL_{TO}^{2} S_{go}^{2} g^{2} \\rho_{0}^{2} \\sigma^{2} + \\frac{W}{S}^{2}}}$"
      ],
      "text/plain": [
       "Eq(\\frac{T}{W}, \\frac{W}{S}*sqrt(1/(CL_{TO}**2*S_{go}**2*g**2*rho_0**2*sigma**2 + \\frac{W}{S}**2)))"
      ]
     },
     "execution_count": 6,
     "metadata": {},
     "output_type": "execute_result"
    }
   ],
   "source": [
    "import sympy\n",
    "theta = sympy.symbols('theta')\n",
    "T_W = sympy.symbols('\\\\frac{T}{W}')\n",
    "W_S = sympy.symbols('\\\\frac{W}{S}')\n",
    "S_g = sympy.symbols('S_g')\n",
    "S_go = sympy.symbols('S_{go}')\n",
    "\n",
    "CL_TO = sympy.symbols('CL_{TO}')\n",
    "g = sympy.symbols('g')\n",
    "sigma = sympy.symbols('sigma')\n",
    "rho_0 = sympy.symbols('rho_0')\n",
    "\n",
    "eq1 = S_go - S_g*sympy.sqrt(1 - T_W**2)  # optimal thrust vectoring angle\n",
    "eq2 = S_g - W_S/(sigma*CL_TO*g*rho_0*T_W)\n",
    "S_go_sol = sympy.solve([eq1, eq2], [S_g, T_W], dict=True)[0][T_W]\n",
    "sympy.Eq(T_W, S_go_sol)"
   ]
  },
  {
   "cell_type": "code",
   "execution_count": 7,
   "metadata": {},
   "outputs": [],
   "source": [
    "### Takeoff Distance for V/STOL with Thrust Vectoring\n",
    "\n",
    "def T_W_takeoff_distance_vectored(W_S):\n",
    "    # stol jet takeoff, non-vectored thrust\n",
    "    # kohlman, pg. 83\n",
    "    CL_TO = 2  # lift coefficient at take-off, []\n",
    "    rho_0 = 1.225  # air density at sea level, [kg/m^3]\n",
    "    sigma = 1  # Area_exit / Area_rotor, []\n",
    "    Sg_min = 305  # minimum takeoff distance, [m], STOL definition https://en.wikipedia.org/wiki/STOL\n",
    "    g = 9.80665 # accel of gravity, [m/s^2]\n",
    "    # reqtured thrust to weight\n",
    "    return W_S*((CL_TO*Sg_min*g*rho_0*sigma)**2 + W_S**2)**(-0.5)"
   ]
  },
  {
   "cell_type": "markdown",
   "metadata": {},
   "source": [
    "## Landing"
   ]
  },
  {
   "cell_type": "code",
   "execution_count": 8,
   "metadata": {},
   "outputs": [],
   "source": [
    "def W_S_landing(T_W):\n",
    "    S_g = 305\n",
    "    g = 9.80665\n",
    "    rho = 1.225\n",
    "    C_D = 1 # should do drag build up\n",
    "    CL_land = 2.2\n",
    "    mu = 0.15\n",
    "    beta = 0.55\n",
    "    W_S = S_g*g*rho*C_D/(beta*np.log(1 + (1.15)**2*C_D/(CL_land*mu*beta)))\n",
    "    # returns W_S\n",
    "    return W_S*np.ones(T_W.shape)"
   ]
  },
  {
   "cell_type": "markdown",
   "metadata": {},
   "source": [
    "## Hover"
   ]
  },
  {
   "cell_type": "code",
   "execution_count": 9,
   "metadata": {},
   "outputs": [],
   "source": [
    "def T_W_hover(W_S):\n",
    "    T_W_hover = 1.2\n",
    "    # returns T_W\n",
    "    return T_W_hover*np.ones(W_S.shape)"
   ]
  },
  {
   "cell_type": "markdown",
   "metadata": {},
   "source": [
    "### Optimization"
   ]
  },
  {
   "cell_type": "code",
   "execution_count": 10,
   "metadata": {},
   "outputs": [],
   "source": [
    "def solve(t_w_constraints, w_s_constraints):\n",
    "    \"\"\"\n",
    "    Takes a dictionary of functions and then solves the constraint analysis problem\n",
    "    \"\"\"\n",
    "    \n",
    "    # declare symbolic variables for the design vector we are solving for\n",
    "    W_S = ca.SX.sym('W_S') # wing loading, weight/(wing area)\n",
    "    T_W = ca.SX.sym('T_W') # thrust to weight\n",
    "    n_constraints = len(t_w_constraints) + len(w_s_constraints)\n",
    "    \n",
    "    # assemble constraints\n",
    "    constraints = [T_W - f(W_S) for f in t_w_constraints] + [f(T_W) - W_S for f in w_s_constraints]\n",
    "    \n",
    "    solver = ca.nlpsol(\n",
    "        'problem',  # name\n",
    "        'ipopt',  # solver\n",
    "        {  # problem details\n",
    "            'x': ca.vertcat(W_S, T_W),  # decision variables/ design vector\n",
    "            'f': T_W - 1e-6*W_S,  # objective function, minimize thrust/weight and maximize wing loading (keep weight low)\n",
    "            'g': ca.vertcat(*constraints)  # constraints\n",
    "        },\n",
    "        {  # solver options\n",
    "            'print_time': 0,\n",
    "            'ipopt': {\n",
    "                'sb': 'yes',\n",
    "                'print_level': 0,\n",
    "            }\n",
    "        }\n",
    "    )\n",
    "\n",
    "    # Solve the problem\n",
    "    res = solver(\n",
    "        x0=[3000, 0.5], # initial guess for (W_S, P_W)\n",
    "        lbg=[0]*n_constraints,  # lower bound on constraints\n",
    "        ubg=[ca.inf]*n_constraints,  # upper bound on constraints\n",
    "        lbx=[0, 0],  # lower bound on state\n",
    "        ubx=[6000, 2],  # upper bound on state\n",
    "    )\n",
    "    stats = solver.stats()\n",
    "    \n",
    "    # If the solver failed, raise an exception\n",
    "    if not stats['success']:\n",
    "        raise RuntimeError(stats['return_status'])\n",
    "    return {\n",
    "        'W_S': float(res['x'][0]),\n",
    "        'T_W': float(res['x'][1]),\n",
    "    }"
   ]
  },
  {
   "cell_type": "code",
   "execution_count": 11,
   "metadata": {},
   "outputs": [],
   "source": [
    "def constraint_analysis(t_w_funcs, w_s_funcs):\n",
    "    \"\"\"\n",
    "    The main function that creates functions, solves the optimization problem, and then plots the constraint\n",
    "    analysis diagram with the optimal design point labelled.\n",
    "    \n",
    "    t_w_funcs: A list of functions that compute required thrust to weight as a function of wing loading\n",
    "    \n",
    "    w_s_funcs: A list of functions that compute required wing loading as a function of thrust to weight\n",
    "    \"\"\"\n",
    "    g = 9.80665\n",
    "    m_S_max = 800  # maximum wing loading plotted [kg/m^2]\n",
    "    T_W_max = 2    # maximum thrust to weight plotted []\n",
    "    \n",
    "    # note it is common to express Wing Loading as [kg/m^2], so we will convert the units here\n",
    "    m_S_val = np.linspace(1e-3, m_S_max, 1000)  # wing loading in kg/m^2\n",
    "    W_S_val = m_S_val*g  # wing loading in N/m^2\n",
    "    T_W_val = np.linspace(0, T_W_max, 1000)\n",
    "    \n",
    "    for f in t_w_funcs:\n",
    "        name = f.__name__\n",
    "        plt.plot(W_S_val/g, f(W_S_val), label=name)\n",
    " \n",
    "    for f in w_s_funcs:\n",
    "        name = f.__name__\n",
    "        plt.plot(f(T_W_val)/g, T_W_val, label=name)\n",
    "\n",
    "    plt.xlabel('Wing Loading, [kg/m^2]')\n",
    "    plt.ylabel('Thrust to Weight Ratio, []')\n",
    "    plt.grid()\n",
    "    plt.title('Constraint Analysis')\n",
    "\n",
    "    # existing aircraft\n",
    "    def plot_aircraft(m_W, T_W, name):\n",
    "        plt.text(m_W, T_W, 'x')\n",
    "        plt.text(m_W+5, T_W + 0.05, name, color='blue', alpha=0.5)\n",
    "        \n",
    "        \n",
    "    # https://en.wikipedia.org/wiki/McDonnell_Douglas_AV-8B_Harrier_II\n",
    "    plot_aircraft(14100/22.61, (105e3/g)/14100, 'Harrier STOL') # max takeoff weight\n",
    "\n",
    "    # https://en.wikipedia.org/wiki/Lockheed_Martin_F-35_Lightning_II    \n",
    "    # increased T/W after talking to Paul, the wiki numbers don't account for lift fans/ afterburning etc.\n",
    "    \n",
    "    plot_aircraft(17000/42.74, 19000/17000, 'F-35B VTO') # BTOL, at takeoff (full fuel)\n",
    "    plot_aircraft(15600/42.74, 19000/15600, 'F-35B VL') # BTOL, at takeoff (full fuel)\n",
    "    plot_aircraft(19000/42.74, 19000/19000, 'F-35B STOL') # STOL, at takeoff (full fuel)\n",
    "    plot_aircraft(31800/42.74, 19000/31800, 'F-35A')  # CTOL, at takeoff (full fuel)\n",
    "    \n",
    "    plot_aircraft(286, 0.45, 'Learjet 31')\n",
    "    \n",
    "    # https://en.wikipedia.org/wiki/Embraer_Phenom_100\n",
    "    plot_aircraft(4800/12.3, (2*7.7e3/g)/4800, 'Phenom 100')\n",
    "    \n",
    "    # https://en.wikipedia.org/wiki/Cessna_Citation_X\n",
    "    plot_aircraft(16600/48.96, (2*31.29e3/g)/16600, 'Citation X')  # max takeoff weight\n",
    "\n",
    "    # design\n",
    "    opt_sol = solve(t_w_funcs, w_s_funcs)\n",
    "    m_S_d = opt_sol['W_S']/g\n",
    "    T_W_d = opt_sol['T_W']\n",
    "    plt.plot(m_S_d, T_W_d, 'r.', markersize=20, label='design point')\n",
    "    plt.text(m_S_d, T_W_d + 0.1, '({:0.3g}, {:0.3g})'.format(m_S_d, T_W_d))\n",
    "    plt.axis([0, m_S_max, 0, T_W_max])\n",
    "    \n",
    "    plt.legend(loc='upper right', ncol=2)"
   ]
  },
  {
   "cell_type": "markdown",
   "metadata": {},
   "source": [
    "## Constraint Analysis\n",
    "\n",
    "In additions you should consider adding (see VTOL Lecture 1 from Paul):\n",
    "    \n",
    " * maximum speed\n",
    " * ceiling\n",
    " * climb after takeoff\n",
    " * acceleration (if needed)"
   ]
  },
  {
   "cell_type": "code",
   "execution_count": 12,
   "metadata": {},
   "outputs": [
    {
     "data": {
      "image/png": "iVBORw0KGgoAAAANSUhEUgAAA4gAAAG5CAYAAADMCRrvAAAAOXRFWHRTb2Z0d2FyZQBNYXRwbG90bGliIHZlcnNpb24zLjMuNCwgaHR0cHM6Ly9tYXRwbG90bGliLm9yZy8QVMy6AAAACXBIWXMAAAsTAAALEwEAmpwYAAC8U0lEQVR4nOzdd3yV5fnH8c+dvRMyCIQASdgjEPaGAA5Uitq6ZShaiqMq2tbW9qe10w6tpThaW0Vw4aha94KAEEQEwpIhhL0JBLLn/fvjyYQkBEhyTsL3/XqdV865n3WdPDmQK9c9jLUWEREREREREQ9XByAiIiIiIiLuQQmiiIiIiIiIAEoQRUREREREpIwSRBEREREREQGUIIqIiIiIiEgZJYgiIiIiIiICKEEUERE5I2NMtjEmwdVx1IcxxhpjOp/H8R3K3q9nQ8YlIiLNgxJEERFpMsaYm4wx35QlIAeMMR8ZY0Y24vWSjTF7z/c81toga216Pa9ZrwStLDZrjPnZ+cbXkKy1u8veb4mrYxERkaanBFFERJqEMeZ+4EngD0A00AF4GrjShWFhjPFy0aWnAcfKvoqIiLgFJYgiItLojDGhwG+Au6y1/7XW5lhri6y171lrf1q2j68x5kljzP6yx5PGGN+ybcnGmL3GmAeMMYfLqo+3Vjn/5caYb40xWcaYfcaYnxhjAoGPgJiyimW2MSbGGPNrY8ybxpiXjDEngVuMMYONMcuNMZll555jjPGpcv6KqqAxZq4x5iljzAdl11thjOlUtm1J2SFry653fS3fjwDgGuAuoIsxZmCVbXFl15tmjNltjDlqjPllle11xlplv0HGmENVE2BjzA+MMWlVzvONMeZk2X5PnHJ9r7LXtxhj0sve6w5jzM31ve8iItL8KEEUEZGmMAzwA96uY59fAkOBJKAvMBj4VZXtbYBQoB1wG/CUMaZV2bb/AD+y1gYDvYGF1toc4DJgf1mXySBr7f6y/a8E3gTCgJeBEmAWEFkW63jgzjpivRF4FGgFbAN+D2CtHV22vW/Z9RbUcvwPgGzgDeATYGoN+4wEupXF8rAxpkdZe71itdauBDKAi6s0Twbmlz3/O/B3a20I0Al4/dRzlCXZs4HLyr63w4G0Wt6TiIi0AEoQRUSkKUQAR621xXXsczPwG2vtYWvtEZwEbEqV7UVl24ustR/iJFjdqmzraYwJsdYet9auPkM8y62171hrS621edbaVdbar6y1xdbancA/gTF1HP9fa+3XZe/nZZyk9mxMAxaUjfN7BbjRGON9yj6PlsW2FliLkzRzlrG+iJMUYowJBy4tux4437POxphIa222tfarWs5RCvQ2xvhbaw9Yazee5XsVEZFmRAmiiIg0hQwg8gzj/WKAXVVe7yprqzjHKQlmLhBU9vwHwOXALmPMYmPMsDPEs6fqC2NMV2PM+8aYg2XdTv+AU6GrzcFa4jgjY0x7YCxOYgnwLk519Yr6XOMsY30J+J4xJgi4DvjSWnugbNttQFdgszFmpTFm4qkHl1VhrwdmAgfKutV2r+97FRGR5kcJooiINIXlQD5wVR377Ac6VnndoaztjKy1K621VwKtgXeo7C5pazvklNfPAJuBLmVdLh8CTH2ufQ6m4Pz/+54x5iCQjpMg1tTNtCb1jtVauw/ne3912XXnV9n2nbX2Rpzv2Z+AN8u6lJ56jk+stRcDbcuu+1w94xQRkWZICaKIiDQ6a+0J4GGccYNXGWMCjDHexpjLjDF/LtvtVeBXxpgoY0xk2f4vnencxhgfY8zNxphQa20RcBJnnB7AISCibJKcugSXHZddViG74+zfZYVDQF1rJk7F6T6bVOXxA+AKY0xEPc5/trHOA34GJFJlDKgxZrIxJspaWwpkljVXW9rCGBNtjJlUljgW4HTr1fIXIiItmBJEERFpEtbaJ4D7cSaeOYLTzfNunIofwO+Ab4B1wHpgdVlbfUwBdpZ1uZxJ2bg7a+1mnMQzvWzWz5hajv8JcBOQhVMhq21ymfr4NfBi2fWuq7rBGDMUiAOestYerPL4H85kNzfW4/xnG+vbOJXZt8u6jJabAGw0xmTjTFhzg7U2/5RjPYAHcCq5x3DGOtY1eY+IiDRzxtraet+IiIhIS2CM2Y4zy+vnro5FRETcmyqIIiIiLZgx5gc4Yy4XujoWERFxf42WIBpj2htjFhljNhljNhpj7q1hH2OMmW2M2WaMWWeM6V9l2wRjzJaybT9vrDhFRERaKmNMCs6kNneVjTUUERGpU6N1MTXGtAXaWmtXG2OCgVXAVdbab6vscznwY5ypyYfgLNg7xBjjCWzFWdx3L7ASuLHqsSIiIiIiItKwGq2CWLaY7uqy51nAJqDdKbtdCcyzjq+AsLLEcjCwzVqbbq0tBF4r21dEREREREQaSV0LFjcYY0wc0A9YccqmdlRfrHhvWVtN7UNqOfcMYAaAn5/fgA4dOjRM0GfpUK6lpNQSE6RhnbUpLS3Fw0PfH3eme+Temvr+FGQ5X32Dm+ySzZ4+Q+5P98i96f64P90j97d169aj1tqocz2+0RNEY0wQ8BZwn7X25KmbazjE1tF+eqO1/wL+BdCtWze7ZcuW84j23P3kjbWkbjtK6i/Gu+T6zUFKSgrJycmuDkPqoHvk3pr6/rz9+GoArn6g/xn2lHL6DLk/3SP3pvvj/nSP3J8xZtf5HN+oCaIxxhsnOXzZWvvfGnbZC7Sv8joWZ60ln1ra3VZEkA9Hswux1mJMTfmtiIiIiIiIe2vMWUwN8B9gU9niyDX5HzC1bDbTocAJa+0BnElpuhhj4o0xPsANZfu6raggXwpLSskqKHZ1KCIiIiIiIuekMSuII4ApwHpjTFpZ20NABwBr7bPAhzgzmG4DcoFby7YVG2PuBj4BPIHnrbUbGzHW8xYR5ANARnYhIX7eLo5GRERERETk7DVagmitXUrNYwmr7mOBu2rZ9iFOAtksRAT6AnA0u4D4yEAXRyMiIiL1UVRUxN69e8nPz3d1KAKEhoayadMmV4chddA9ch9+fn7Exsbi7d2wxakmmcX0QhAZ5CSIGdkFLo5ERERE6mvv3r0EBwcTFxenOQTcQFZWFsHBmjrZnekeuQdrLRkZGezdu5f4+PgGPbfmqG0gkWVdTI9kF7o4EhEREamv/Px8IiIilByKSLNijCEiIqJRej8oQWwgrQLLxyCqgigiItKcKDkUkeaosf7tUoLYQLw9PWgV4E2GKogiIiIiItJMKUFsQBFBvhxVBVFERERERJopJYgNKDLIRxVEERERqbeMjAySkpJISkqiTZs2tGvXruJ1YWH13ylmzZrFk08+WfH60ksv5fbbb694/cADD/DEE7UtPX1+9u/fzzXXXNMo5xY5G031mUlJSWHixImN8h7cnRLEBqQKooiIiJyNiIgI0tLSSEtLY+bMmcyaNavitY+PT7V9hw8fTmpqKgClpaUcPXqUjRsrl4lOTU1lxIgR5xxLcXFxrdtiYmJ48803z/ncIg3FnT4zDamkpMTVIVTQMhcNKCrIl8VZShBFRESao0ff28i3+0826Dl7xoTwyPd6Nci5RowYwaxZswDYuHEjvXv35sCBAxw/fpyAgAA2bdpEv379aj3+z3/+M/Pnz8fDw4PLLruMxx57jOTkZIYPH86yZcuYNGkS69evZ+LEiRXVwqCgILKzs9m5cycTJ05kw4YNbNy4kVtvvZXCwkJKS0t566236NKlCy+99BKzZ8+msLCQIUOG8PTTT+Pp6dkg713c08E//IGCTZsb9Jy+PbrT5qGHGuRc5/uZyc7O5pprrmHDhg0MGDCAl156CWMMX3zxBT/5yU8oLi5m0KBBPPPMMyxcuJAXXniB119/HXAqkI8//jjvvfcen376KY888ggFBQV06tSJF154gaCgIOLi4pg+fTqffvopd999NzfccEODvO/zpQpiA2od4kt2QTG5hbX/BU5ERETkXMTExODl5cXu3btJTU1l2LBhDBkyhOXLl/PNN9/Qp0+f0yoo5T766CPeeecdVqxYwdq1a/nZz35WsS0zM5PFixfzwAMP1CuOZ599lnvvvZe0tDS++eYbYmNj2bRpEwsWLGDZsmWkpaXh6enJyy+/3CDvW+Rcnc9nBmDNmjU8+eSTfPvtt6Snp7Ns2TLy8/O55ZZbWLBgAevXr6e4uJhnnnmGiy++mK+++oqcnBwAFixYwPXXX8/Ro0f53e9+x+eff87q1asZOHBgtW6tfn5+LF261G2SQ1AFsUG1DvYD4EhWAR0j9K0VERFpThqq0teYRowYQWpqKqmpqdx///3s27eP1NRUQkNDGT58eK3Hff7559x6660EBAQAEB4eXrHt+uuvP6sYhg0bxu9//3v27t3L97//fbp06cIXX3zBqlWrGDRoEAB5eXm0bt36HN6hNCcNVelrTOf6mQEYPHgwsbGxACQlJbFz506Cg4OJj4+na9euAEybNo2nnnqK++67jwkTJvDee+9xzTXX8MEHH/DnP/+ZxYsX8+2331Z0ZS0sLGTYsGEV1zjbz19TUBbTgFoH+wJwOKuAjhGBLo5GREREWpryMVXr16+nd+/etG/fnscff5yQkBCmT59e63HW2lrXTAsMrPydxcvLi9LS0opjTp30A+Cmm25iyJAhfPDBB1x66aX8+9//xlrLtGnT+OMf/3ie71CkYZ3rZwbA19e34rmnpyfFxcVYa2vd//rrr+epp54iPDycQYMGERwcjLWWiy++mFdffbXGY6p+/tyFupg2oKjyBPGkxiGKiIhIwxsxYgTvv/8+4eHheHp6Eh4eTmZmJsuXL69WlTjVJZdcwvPPP09ubi4Ax44dq3G/uLg4Vq1aBcC7775LUVHRafukp6eTkJDAPffcw6RJk1i3bh3jx4/nzTff5PDhwxXn37Vr1/m+XZHzdq6fmdp0796dnTt3sm3bNgDmz5/PmDFjAEhOTmb16tU899xzFZXBoUOHsmzZsor9c3Nz2bp1awO9u8ahBLEBlVcQj2TluzgSERERaYkSExM5evQoQ4cOrdYWGhpKZGRkrcdNmDCBSZMmMXDgQJKSkvjrX/9a434//OEPWbx4MYMHD2bFihU1VjcWLFhA7969SUpKYvPmzUydOpWePXvyu9/9jksuuYQ+ffpw8cUXc+DAgfN/wyLn6Vw/M7Xx8/PjhRde4NprryUxMREPDw9mzpwJOFXGiRMn8tFHH1UskREVFcXcuXO58cYb6dOnD0OHDmXz5oad2KehmbrKpM1Nt27d7JYtW1x2/dJSS9dffcSM0Qn8bEJ3l8XhrlJSUkhOTnZ1GFIH3SP31tT35+3HVwNw9QP9m+yazZ0+Q+7v1Hu0adMmevTo4bqApJqsrCyCg4NdHYbUQffIvdT0b5gxZpW1duC5nlMVxAbk4WGICvblsJa6EBERERGRZkiT1DQwJYgiIiJyPjIyMhg/fvxp7V988QURERF1Hrt+/XqmTJlSrc3X15cVK1Y0aIwi7kSfmYalBLGBtQ72ZV+mxiCKiIjIuYmIiCAtLe2cjk1MTDznY0WaK31mGpa6mDawqGA/TVIjIiIiIiLNkhLEBhYV7EtGTiHFJaWuDkVEREREROSsKEFsYK2DfbEWMnJOX1hWRERERETEnSlBbGDlayEePqmJakREREREpHlRgtjAWof4AXBY4xBFRETkDDIyMkhKSiIpKYk2bdrQrl27iteFhdV7I82aNYsnn3yy4vWll17K7bffXvH6gQce4IknnqjxOjt37uSVV145YzwpKSkVC3yfj82bN5OUlES/fv3Yvn07s2fPpkePHtx88831Oj4uLo6jR48CMHz48Dr3/cMf/nDe8Urzca6fg9LSUu655x569+5NYmIigwYNYseOHbVep+rP4PkKCgoCYP/+/VxzzTUNcs7GpASxgUWVVxC11IWIiIicQfnsi2lpacycOZNZs2ZVvPbx8am27/Dhw0lNTQWcX3aPHj3Kxo0bK7anpqYyYsSIGq9T3wSxobzzzjtceeWVrFmzhk6dOvH000/z4Ycf8vLLL5/1ucrfc22UIF5YzvVzsGDBAvbv38+6detYv349b7/9NmFhYU0VNgAxMTG8+eabTXrNc6FlLhpYVJC6mIqIiDRLH/0cDq5v2HO2SYTLHmuQU40YMYJZs2YBsHHjRnr37s2BAwc4fvw4AQEBbNq0iX79+tV47M9//nM2bdpEUlIS06ZN4+qrr2bKlCnk5OQAMGfOnNMqdStXrmTGjBm89dZbHD9+nPvvv5/s7GwiIyOZO3cubdu2rUhsc3Nz6dSpE88//zzLly/nySefxNPTkyVLltCtWzfS09OZNGkS06dPr3gPVWVkZHDjjTdy6NAhhg4dirW2YltQUBDZ2dkcOHCA66+/npMnT1JcXMwzzzzDBx98QF5eHklJSfTq1YuXX36Zq666ij179pCfn8+9997LjBkzKs5z77338v777+Pv78+7775LdHQ0hw4dYubMmaSnpwPwzDPPMHz4cF566SVmz55NYWEhQ4YM4emnn8bT0/P8b2QL8uXrWzm6J7tBzxnZPohR13Wtdfu5fg4OHDhA27Zt8fBw6mOxsbH1julsf6Z27NjBTTfdRHFxMRMmTKg4z86dO5k4cSIbNmxg7ty5/O9//yM3N5ft27dz9dVX8+c//xmA//znP/zpT38iJiaGLl264Ovry5w5c+od7/lSBbGB+Xh5EB7owyF1MRUREZEGFBMTg5eXF7t37yY1NZVhw4YxZMgQli9fzjfffEOfPn1OqzqWe+yxxxg1ahRpaWnMmjWL1q1b89lnn7F69WoWLFjAPffcU23/1NRUZs6cybvvvkv79u358Y9/zJtvvsmqVauYPn06v/zlLwGYOnUqf/rTn1i3bh2JiYk8+uijXH755RXV0EWLFvHss88SExPDokWLakwOAR599FFGjhzJ0qVLmTRpErt37z5tn1deeYVLL72UtLQ01q5dS1JSEo899hj+/v6kpaVVVCeff/55Vq1axTfffMPs2bPJyMgAICcnh6FDh7J27VpGjx7Nc889B8A999zDmDFjWLt2LatXr6ZXr15s2rSJBQsWsGzZMtLS0vD09Dyn6qc0vHP9HFx33XW89957JCUl8cADD7BmzZp6X/Nsf6buvfde7rjjDlauXEmbNm1qPW9aWhoLFixg/fr1LFiwgD179rB//35++9vf8tVXX/HZZ5+xefPms/wOnT9VEBtBmxA/Dp1QgigiItKsNFClrzGNGDGC1NRUUlNTuf/++9m3bx+pqamEhoaecaxeVUVFRdx9990Vyc/WrVsrtm3atIkZM2bw6aefEhMTw4YNG9iwYQMXX3wxACUlJbRt25YTJ06QmZnJmDFjAJg2bRrXXnvtOb2vJUuW8N///heAK664glatWp22z6BBg5g+fTpFRUVcddVVJCUl1Xiu2bNn8/bbbwOwZ88evvvuOyIiIvDx8akYXzlgwAA+++wzABYuXMi8efMA8PT0JDQ0lPnz57Nq1SoGDRoEQF5eHq1btz6n99aS1VXpa0zn8jmIjY1ly5YtLFy4kIULFzJ+/HjeeOMNxo8ff8brne3P1LJly3jrrbcAmDJlCg8++GCN5x0/fjyhoaEA9OzZk127dnH06FHGjBlDeHg4ANdee221z2dTUILYCNqE+nFACaKIiIg0sPLxV+vXr6d37960b9+exx9/nJCQEKZPn17v8/ztb38jOjqatWvXUlpaip+fX8W2tm3bkp+fz5o1a4iJicFaS69evVi+fHm1c5w4caLB3heAMabO7aNHj2bJkiV88MEHTJkyhZ/+9KdMnTq12j4pKSl8/vnnLF++nICAAJKTk8nPd34n8/b2rriGp6cnxcXFtV7LWsu0adP44x//eJ7vShrDuX4OfH19ueyyy7jsssuIjo7mnXfeOWOCeK4/U2f6eS6Pp1z58VW7V7uKupg2gugQPw6dVIIoIiIiDWvEiBG8//77hIeH4+npSXh4OJmZmSxfvpxhw4bVelxwcDBZWVkVr0+cOFExHmv+/PmUlJRUbAsLC+ODDz7goYceIiUlhW7dunHkyJGKBLGoqIiNGzcSGhpKq1at+PLLLwGYP39+RTXxbI0ePbqiC+dHH33E8ePHT9tn165dtG7dmh/+8IfcdtttrF69GnB+SS8qKqp4X61atSIgIIDNmzfz1VdfnfHa48eP55lnngGc6ujJkycZP348b775JocPHwbg2LFj7Nq165zemzS8c/kcrF69mv379wPO5Dbr1q2jY8eOZ7zWufxMjRgxgtdeew3grLsmDx48mMWLF3P8+HGKi4srKpFNSQliI2gT4kdGTiEFxSVn3llERESknhITEzl69ChDhw6t1hYaGkpkZGStx/Xp0wcvLy/69u3L3/72N+68805efPFFhg4dytatWwkMDKy2f3R0NO+99x533XUXa9as4c033+TBBx+kb9++JCUlVcwi+eKLL/LTn/6UPn36kJaWxsMPP3xO7+uRRx5hyZIljBo1ik8//ZQOHTqctk9KSkrF0hlvvfUW9957LwAzZsygT58+3HzzzUyYMIHi4mL69OnD//3f/1X7PtXm73//O4sWLSIxMZEBAwawceNGevbsye9+9zsuueQS+vTpw8UXX8yBAwfO6b1JwzuXz8Hhw4f53ve+R+/evSs+D3ffffcZr3WuP1NPPfUUgwYNOutKe7t27XjooYcYMmQIF110ET179qzohtpUjDuUMRtKt27d7JYtW1wdBgtW7ubBt9bz5c/G0j48wNXhuI2UlBSSk5NdHYbUQffIvTX1/Xn7ceev81c/0L/Jrtnc6TPk/k69R5s2baJHjx6uC0iqycrKIjg42NVhSB10jxpfdnY2QUFBFBcXc/XVVzN9+nSuvvrqGvet6d8wY8wqa+3Ac72+KoiNoE2oPwAH1c1URERERETOwq9//WuSkpLo3bs38fHxXHXVVU16fU1S0wjahDgDvQ9qohoRERE5SxkZGTVOnPHFF18QERFR57Hr169nypQp1dp8fX1ZsWJFg8Z4rl544QX+/ve/V2sbMWIETz31lIsikpbmbD8DQ4YMoaCg+vrl8+fPJzExsdFiPJO//vWvLrs2KEFsFOUJoiaqERERkbMVERFBWlraOR2bmJh4zsc2hVtvvZVbb73V1WFIC3a2nwF3+eOJO1EX00YQ4u+Fn7eHKogiIiIiItKsKEFsBMYY2oT4cUAVRBERERERaUaUIDaSNqF+HFIFUUREREQuVNu3w513QkgIeHg4X++802kXt6UEsZG0CfHTLKYiIiIicmH66CPo0wf+/W/IygJrna///rfT/tFHDXKZX//61+c0qcs333zDPffc0yAxNMa1MzMzefrpp5soouqUIDaS6FA/Dp8soCWtMykiIiINKyMjg6SkJJKSkmjTpg3t2rWreF1YWFht31mzZvHkk09WvL700ku5/fbbK14/8MADPPHEEzVeZ+fOnbzyyitnjCclJYWJEyee25upYvPmzRWL2m/fvp3Zs2fTo0cPbr755nodHxcXx9GjRwEYPnx4nfv+4Q9/OO943UFKSgqpqamNdv6goKBGO/dptm+Ha66B3FwoKqq+rajIab/mGpdWEgcOHMjs2bPd9tpKEFugNiF+FJaUciyn8Mw7i4iIyAWpfMbStLQ0Zs6cyaxZsype+/j4VNt3+PDhFQlEaWkpR48eZePGjRXbU1NTGTFiRI3XqW+C2FDeeecdrrzyStasWUOnTp14+umn+fDDD3n55ZfP+lxnSpou5ASxuLi4kaI5T48/fnpieKqiIvjb387p9L///e/p1q0bF110EVu2bKlo3759OxMmTGDAgAGMGjWKzZs3A/DGG2/Qu3dv+vbty+jRo4Hqfww5cuQIF198Mf379+dHP/oRHTt25OjRo+zcuZMePXrwwx/+kF69enHJJZeQl5d3Wjy33HILM2fOZNSoUXTt2pX3338fgPz8fG699VYSExPp168fixYtOu3av/71r5k+fTrJyckkJCRUJI4///nP2b59O0lJSfz0pz89p+/TuWq0ZS6MMc8DE4HD1treNWz/KVD+ZyQvoAcQZa09ZozZCWQBJUCxtXZgY8XZWNqGOktdHDiRT0SQr4ujERERkTP509d/YvOxzQ16zu7h3Xlw8IMNcq4RI0Ywa9YsADZu3Ejv3r05cOAAx48fJyAggE2bNtGvX78aj/35z3/Opk2bSEpKYtq0aVx99dVMmTKFnJwcAObMmXNapW7lypXMmDGDt956i+PHj3P//feTnZ1NZGQkc+fOpW3bthWJbW5uLp06deL5559n+fLlPPnkk3h6erJkyRK6detGeno6kyZNYvr06RXvoaqMjAxuvPFGDh06xNChQ6v1wAoKCiI7O5sDBw5w/fXXc/LkSYqLi3nmmWf44IMPyMvLIykpiV69evHyyy9z1VVXsWfPHvLz87n33nuZMWNGxXnuvfde3n//ffz9/Xn33XeJjo7m0KFDzJw5k/T0dACeeeYZhg8fzksvvcTs2bMpLCxkyJAhPP3003h6ep4W+zPPPMOOHTv485//DMDcuXNZtWoV//jHP2o9x8cff8xDDz1ESUkJkZGR/Oc//+HZZ5/F09OTl156iX/84x906NCB6dOnc+TIEaKionjhhRfo0KEDt9xyC+Hh4axZs4b+/ftz5513ctddd3HkyBECAgJ47rnn6N69Ozt27OCmm26iuLiYCRMmnO2P2/l56aX6JYjz58OcOWd16lWrVvHaa6+xZs0aiouL6d+/PwMGDABgxowZPPvss3Tp0oUVK1Zw5513snDhQn7zm9/wySef0K5dOzIzM08756OPPsq4ceP4xS9+wccff8y//vWvim3fffcdr776Ks899xzXXXcdb731FpMnTz7tHDt37mTx4sVs376dsWPHsm3btor1PdevX8/mzZu55JJL2Lp162nHbt68mUWLFpGVlUW3bt244447eOyxx9iwYYNLlq1pzAriXKDWn0Zr7V+stUnW2iTgF8Bia+2xKruMLdve7JJDgJgwfwD2Z57+VwYRERGRsxUTE4OXlxe7d+8mNTWVYcOGMWTIEJYvX84333xDnz59Tqs6lnvssccYNWoUaWlpzJo1i9atW/PZZ5+xevVqFixYcNp4qNTUVGbOnMm7775L+/bt+fGPf8ybb77JqlWrmD59Or/85S8BmDp1Kn/6059Yt24diYmJPProo1x++eUV1dBFixbx7LPPEhMTw6JFi2pMDsH5BX3kyJEsXbqUSZMmsXv37tP2eeWVV7j00ktJS0tj7dq1JCUl8dhjj+Hv709aWlpFdfL5559n1apVfPPNN8yePZuMjAwAcnJyGDp0KGvXrmX06NE899xzANxzzz2MGTOGtWvXsnr1anr16sWmTZtYsGABy5YtIy0tDU9Pz1qrn9dccw3//e9/K14vWLCA66+/vtZzHDlyhB/+8Ie89dZbrF27ljfeeIO4uLhqFeRRo0Zx9913M3XqVNatW8fNN99c7R5t3bqVzz//nMcff5wZM2bwj3/8g1WrVvHXv/6VO++8E4B7772XO+64g5UrV9KmTZsaY2802dkNu18VX375JVdffTUBAQGEhIQwadKkslNlk5qayrXXXktSUhI/+tGPOHDgAOD8ceWWW27hueeeo6Sk5LRzLl26lBtuuAGACRMm0KpVq4pt8fHxJCUlATBgwAB27txZY1zXXXcdHh4edOnShYSEBDZv3szSpUuZMmUKAN27d6djx441JohXXHEFvr6+REZG0rp1aw4dOnTW35eG1GgVRGvtEmNMXD13vxF4tbFicYXyBHGfEkQREZFmoaEqfY1pxIgRpKamkpqayv3338++fftITU0lNDT0jGP1qioqKuLuu++uSFyq/tK6adMmZsyYwaeffkpMTAwbNmxgw4YNXHzxxQCUlJTQtm1bTpw4QWZmJmPGjAFg2rRpXHvttef0vpYsWVKRZF1xxRXVfkEvN2jQIKZPn05RURFXXXVVxS/tp5o9ezZvv/02AHv27OG7774jIiICHx+fim59AwYM4LPPPgNg4cKFzJs3DwBPT09CQ0OZP38+q1atYtCgQQDk5eXRunXrGq8XFRVFQkICX331FV26dGHLli2MGDGCp556qsZzfPXVV4wePZr4+HgAwsPDazzv8uXLK74nU6ZM4Wc/+1nFtmuvvRZPT89qSVG5goICAJYtW8Zbb71VcfyDDzbhz3dQkDMhTX32OwfGmNPaSktLCQsLq7Hi9uyzz7JixQo++OADkpKSTtunrjlDfH0rewJ6enrW2MW0ppiMMfWei+TUa7i663CjJYj1ZYwJwKk03l2l2QKfGmMs8E9r7b9qPNg5fgYwA5wPaEpKSiNGW3/WWrw9YMX6rcQX7XJ1OG4hOzvbbe6P1Ez3yL019f3JzCwF0M/EWdBnyP2deo9CQ0PJqs8vsk2goKAAb2/vOuPp378/KSkprF27lo4dOxIWFsaf//xngoODmTJlSq3H5ubmUlxcXLH9scceo1WrVixdupTS0lKioqLIysoiNzeX1q1bU1BQwLJly5gwYQLZ2dl0796dL774oto5T5w4gbW24pzZ2dmUlpaSlZV12nux1pKdnV3tF+GqSktLycnJITw8nKysrNP2z8rKol+/fnz44Yd88sknFRW1m266qWI7ONWlTz75hE8//ZSAgAAuv/xyjh07RlZWFt7e3mSXVawKCwvJy8uruFZWVla1SYHy8vK48cYb+fWvf10tztq+v1deeSUvvfQSXbt25YorriA7O7vWc3z44YfV7kW5mr5n5XEXlXXXzMrKoqioCA8PD7Kysjh58iShoaF8+eWXp8VZ/j308vKqOGdD/KyXlJSc8Ty+112H97x5mDq6mVpvb4quv56Cs4xpwIAB3HHHHdx1110UFxfz7rvvMn36dIwxdOjQgXnz5nH11VdjrWXDhg0kJiaSnp5Oz5496dmzJ++++y6bN2+u9pkYPHgw8+fPZ9asWXzxxRccP36c7Ozsaj/T4NyjgoKC095/UVERr776Kt///vfZuXMn27dvJyYmhiFDhjB37lwGDRrEd999x65du4iJiWHv3r0V1z71vpeWlpKdnU1QUBAnT5484/c6Pz+/wf/fcXmCCHwPWHZK99IR1tr9xpjWwGfGmM3W2iU1HVyWPP4LoFu3bjY5ObnRA66v9qtS8AgOJjl5gKtDcQspKSm40/2R0+keubemvj/HV60GIDm5f5Nds7nTZ8j9nXqPNm3aRHBwsOsCqsLX1xdfX9864xk/fjxPPfUUCQkJhIWFERYWRlZWFps3b+aFF16o9djo6Gjy8vIqtufn59OxY0dCQ0N54YUXKCkpITg4mICAACIiIvjPf/7DJZdcQlRUFMOHD+fYsWNs2LCBYcOGUVRUxNatW+nVqxfh4eEVXSLffvttxo4dS3Bw8GnvxRhDUFBQrfElJyfz7rvvcu+997J06VIyMzOr7R8cHMyuXbtISEjgxz/+MSUlJRX3ztvbGz8/v4pEKjIykujoaDZv3szKlSsJCAiodh4Af39/vL29CQ4O5qKLLuKll17ivvvuo6SkhJycHK644gquvPJKHnzwQVq3bl2RZHbs2LHG+G+66SYGDBjAxo0b+dOf/kRwcHCt5xg3bhw/+clPOHr0KPHx8Rw7dozw8HAiIyM5efJkRYwjRozggw8+YMqUKcydO5dRo0ZVvF9/f3+Cg4MJDg4mISGBjz/+mGuvvRZrLevWraNv376MHDmSDz74gMmTJ/PSSy9Ve//nIysr68zn+cUv4NVX6xyHaLy98XnwQXzOMqZRo0Zx4403MmrUKDp27MiYMWMqftZee+017rjjDh5//HGKioq44YYbGD58OI8++ijfffcd1lrGjx/P8OHDWbx4MV5eXgQHB/P73/+eG2+8kXfeeYcxY8bQtm1b2rZty4EDB/Dw8Kh4v76+vhQVFZ32/r29venVqxcTJ07k0KFD/POf/yQqKopZs2Yxc+ZMhg8fjpeXFy+++CKRkZEEBARUXPvUz4qHhwdBQUHExcUxcuRIhg0bxmWXXcZf/vKXGr8ffn5+tY49PmfW2kZ7AHHAhjPs8zZwUx3bfw38pD7X69q1q3Unk//9lZ00Z6mrw3AbixYtcnUIcga6R+6tqe/Pf/+6yv73r6ua9JrNnT5D7u/Ue/Ttt9+6JpAaPPLII/Yvf/lLnfsUFxfb4OBg+8tf/rKibdq0afZMvwMVFhbacePG2T59+tgnnnjCbt261SYmJtohQ4bYn//85zYwMNBa63x/rrjiCmuttbt27bI9e/a0X331lV2zZo0dNWqU7dOnj+3Zs6f917/+Za21ds2aNXbIkCE2MTHRXnnllfbYsWM1vpeOHTvaI0eO1Brf0aNH7cUXX2z79u1r77vvPtuhQ4eK/ctjmzt3ru3Vq5dNSkqyI0eOtOnp6dZaa3/2s5/Z7t2725tuusnm5+fbCRMm2MTERHvNNdfYMWPGVNzz8vNYa+0bb7xhp02bZq219uDBg3bSpEm2d+/etm/fvjY1NdVaa+1rr71m+/btaxMTE23//v3t8uXL6/weX3HFFTY+Pr5aW23n+PDDD21SUpLt06ePveiii6y11m7ZssUmJibavn372iVLltgdO3bYsWPH2sTERDtu3Di7a9cua61zv994442Ka6Snp9tLL73U9unTx/bo0cM++uijFe1Dhw61AwcOtH/84x+rvf/zcfLkyfrt+OGH1gYEWOvtba2zCqLz8PZ22j/8sEHiaQj5+fm2qKjIWmttamqq7du371kdf+o9aUo1/RsGfGPPI4czthHX6Ssbg/i+rWEW07LtocAOoL21NqesLRDwsNZmlT3/DPiNtfbjM12vW7dutupUt6724Jvr+GLzYb751UWuDsUt6C/r7k/3yL019f15+3Gngnj1A6og1pc+Q+6vpgpijx49XBeQVFOv6pS41Fndo+3bnaUs5s93JqQJCoIpU2DWLOjUqXEDPQvfffcd1113HaWlpfj4+PD0009XjB2tj1tuuYWJEydyzTXXNGKUNavp3zBjzCp7HhN9NuYyF68CyUCkMWYv8AjgDWCtfbZst6uBT8uTwzLRwNtlAz29gFfqkxy6o3at/DmaXUB+UQl+3qdPiywiIiIi0mJ16uQsY3GWS1k0tS5durBmzZpzPn7u3LkNF4wbaMxZTG+sxz5zcZbDqNqWDvRtnKiaVvlMpgdO5BMfGejiaERERKQ5yMjIYPz48ae1f/HFF0RERNR57Pr16yum1S/n6+vLihUrGjTGc/XCCy/w97//vVpb+YyfzcGQIUMqZgktN3/+fBITE10UkUjDc4dJalqsdlXWQlSCKCIi4p6stTVOm+8qERER57w4dmJioksW1q6vW2+9lVtvvdXVYZwzd0m0RaDu5TnOh0ejnFWAygRRayGKiIi4Jz8/PzIyMhrtFy0RkcZgrSUjIwM/P78GP7cqiI2oTagfxsC+40oQRURE3FFsbCx79+7lyJEjrg5FcJbfaIxfeKXh6B65Dz8/P2JjYxv8vEoQG5GPlwetg33ZrwqiiIiIW/L29iY+Pt7VYUiZlJSUhl/TTRqU7lHLpy6mjaxdmL+6mIqIiIiISLOgBLGRxYT5q4IoIiIiIiLNghLERtaulT/7M/MpLdXgdxERERERcW9KEBtZuzB/CktKOZpTcOadRUREREREXEgJYiOrWOpCM5mKiIiIiIibU4LYyGLKEsT9mfkujkRERERERKRuShAbWbtWZRXEzFwXRyIiIiIiIlI3JYiNLMTPm2BfL1UQRURERETE7SlBbALtWvmz97gqiCIiIiIi4t6UIDaB2FYB7DmmSWpERERERMS9KUFsAh0jAth9LBdrtRaiiIiIiIi4LyWITaBDeAB5RSUcydJaiCIiIiIi4r6UIDaBDhEBAOw+pnGIIiIiIiLivpQgNoGO4U6CuCtDCaKIiIiIiLgvJYhNoF0rf4yBXaogioiIiIiIG1OC2AR8vTyJCfVnjxJEERERERFxY0oQm0iH8AB2ZeS4OgwREREREZFaKUFsIh3CAzRJjYiIiIiIuDUliE2kQ0QAR7MLySkodnUoIiIiIiIiNVKC2EQ6aqkLERERERFxc0oQm0jH8EBAS12IiIiIiIj7UoLYRDqUrYWomUxFRERERMRdKUFsIqEB3oT6e7PrmGYyFRERERER96QEsQl1jAhQF1MREREREXFbShCbUPvwAHUxFRERERERt6UEsQl1DA9g7/E8iktKXR2KiIiIiIjIaZQgNqGOEQEUl1oOnMh3dSgiIiIiIiKnUYLYhDqULXWxM0MT1YiIiIiIiPtRgtiEOkU5CWL6ESWIIiIiIiLifpQgNqGoYF+CfL1IP5Lt6lBEREREREROowSxCRljSIgKZLsqiCIiIiIi4oaUIDaxTlFBqiCKiIiIiIhbUoLYxBIiA9l/Ip/cwmJXhyIiIiIiIlKNEsQmlhAVBMCOo+pmKiIiIiIi7qXREkRjzPPGmMPGmA21bE82xpwwxqSVPR6usm2CMWaLMWabMebnjRWjKyRoJlMREREREXFTjVlBnAtMOMM+X1prk8oevwEwxngCTwGXAT2BG40xPRsxziYVHxmIMUoQRURERETE/TRagmitXQIcO4dDBwPbrLXp1tpC4DXgygYNzoX8vD2JCfUn/agmqhEREREREfdirLWNd3Jj4oD3rbW9a9iWDLwF7AX2Az+x1m40xlwDTLDW3l623xRgiLX27lquMQOYARAVFTXg9ddfb4R30rD+ujKfrCLLo8P9XR1Kk8rOziYoKMjVYUgddI/cW1Pfnx1flAIQP17D1etLnyH3p3vk3nR/3J/ukfsbO3bsKmvtwHM93qshgzlLq4GO1tpsY8zlwDtAF8DUsG+tWay19l/AvwC6detmk5OTGz7SBpZyciNvfLOHMWPGYExNb7dlSklJoTncnwuZ7pF7a+r7c3zVagCSk/s32TWbO32G3J/ukXvT/XF/ukctn8v+LGytPWmtzS57/iHgbYyJxKkotq+yayxOhbHF6BQVSE5hCYdOFrg6FBERERERkQouSxCNMW1MWfnMGDO4LJYMYCXQxRgTb4zxAW4A/ueqOBtD+VIX6Uc0DlFERERERNxHo3UxNca8CiQDkcaYvcAjgDeAtfZZ4BrgDmNMMZAH3GCdAZHFxpi7gU8AT+B5a+3GxorTFcqXuth+NIfhnSNdHI2IiIiIiIij0RJEa+2NZ9g+B5hTy7YPgQ8bIy530CbEjwAfT1UQRURERETErWhqOhcwxhAfGch2rYUoIiIiIiJuRAmii3SNDua7Q1muDkNERERERKSCEkQX6RodzIET+ZzIK3J1KCIiIiIiIoASRJfp1saZyVRVRBERERERcRdKEF2ka3QwAFsPaaIaERERERFxD0oQXaRdmD+BPp5sVQVRRERERETchBJEFzHG0LVNMFsOKkEUERERERH3oATRhbq2DlYFUURERERE3IYSRBfq2iaYjJxCjmYXuDoUERERERERJYiu1K18ohp1MxURERERETegBNGFupYtdbFF3UxFRERERMQNKEF0oaggX1oFeGscooiIiIiIuAUliC5kjKFrtGYyFRERERER96AE0cW6tQnmu0PZWGtdHYqIiIiIiFzglCC6WNfoYLIKijlwIt/VoYiIiIiIyAVOCaKLdWvjzGS6+eBJF0ciIiIiIiIXOiWILta9LEHcuE8JooiIiIiIuJYSRBcL9vMmLiKAjfuVIIqIiIiIiGspQXQDvWJC2XjghKvDEBERERGRC5wSRDfQMyaEPcfyOJFX5OpQRERERETkAqYE0Q30igkBYNMBdTMVERERERHXUYLoBnrFhAJoHKKIiIiIiLiUEkQ3EBXsS+tgXzbu1zhEERERERFxHSWIbqJnTAjfqoIoIiIiIiIupATRTfSKCeG7w9nkF5W4OhQREREREblAKUF0E71iQikptWw9lOXqUERERERE5AKlBNFNlM9kqolqRMTd5OXlMWbMGEpKSti1axcDBgwgKSmJXr168eyzz1bsd/PNN9OtWzd69+7N9OnTKSpylu75y1/+QlJSEklJSfTu3RtPT0+OHTtW5zXnzJlD586dMcZw9OjRGvdJS0tj2LBh9OrViz59+rBgwYKKbTfccAPfffddA7x7ERGRC4sSRDfRvlUAwb5eGocoIm7n+eef5/vf/z6enp60bduW1NRU0tLSWLFiBY899hj79+8HnARx8+bNrF+/nry8PP79738D8NOf/pS0tDTS0tL44x//yJgxYwgPD6/zmiNGjODzzz+nY8eOte4TEBDAvHnz2LhxIx9//DH33XcfmZmZANxxxx38+c9/bphvgIiIyAXEy9UBiMPDw9AzJoT1+zSTqYi4l5dffplXXnkFAB8fn4r2goICSktLK15ffvnlFc8HDx7M3r17TzvXq6++yo033njGa/br1++M+3Tt2rXieUxMDK1bt+bIkSOEhYUxatQobrnlFoqLi/Hy0n91IiIi9VVrBdEYc/IMjyxjzNamDLal69s+jG8PnKSwuPTMO4uINIGi4iLS09OJi4uraNuzZw99+vShffv2PPjgg8TExFQ/pqiI+fPnM2HChGrtubm5fPzxx/zgBz9o8Di//vprCgsL6dSpEwAeHh507tyZtWvXNvi1REREWrK6uphut9aG1PEIBnKaKtALQd/YMAqLS9lyUBPViIh7yMrJJCwsrFpb+/btWbduHdu2bePFF1/k0KFD1bbfeeedjB49mlGjRlVrf++99xgxYsQZu5eerQMHDjBlyhReeOEFPDwq/1tr3bp1RfdXERERqZ+6+t3U50+8Df9n4AtY3/ahAKTtOU5ibKiLoxERAR9vX/Lz82vcFhMTQ69evfjyyy+55pprAHj00Uc5cuQI//znP0/b/7XXXqtX99KzcfLkSa644gp+97vfMXTo0Ir2Rx+Fb7/N5/PP/dm3D264AU7Jc1m4ELZsAWMgMBCuugqCgyEzE+bMgchIZ7/YWJg40Xn+5JPg4wMeHlBaCuPGQffu1c/7zjvOMQMHVrZt3gyrVsHNN8Mf/gAPPdSg3wYREZEGU2uCaK1NP9PB9dlH6q9dmD+RQT6k7TnBlGGujkZEBIICQigpKSE/Px8/Pz/27t1LREQE/v7+HD9+nGXLlnH//fcD8O9//5tPPvmEL774ololD+DEiRMsXryYl156qVr7+PHjmTdvHu3atTvr2AoLC7n66quZOnUq1157bbVt3t5QXLyVn/+8F23b1nz8iBFOggewYgUsXlyZCIaHw8yZNR93yy0QEABHj8L8+acniL17w9Kl1RPEDRucdhEREXdX1xjE9890cH32kfozxpDUPoy1ezNdHYqISIVLLrmEpUuXArBp0yaGDBlC3759GTNmDD/5yU9ITEwEYObMmRw6dIhhw4aRlJTEb37zm4pzvP3221xyySUEBgZWtJWWlrJt27Yau5zOnj2b2NhY9u7dS58+fbj99tsB+Oabbyqev/766yxZsoS5c+dWLKORlpYGQHb2Ifz9/WlbW3YI+PpWPi8sPPvvS0EB+Puf3p6Q4CSPWWWjBYqKID399ERSRETEHdXVxXSkMeZ/dWw3QM8GjueC1zc2jC82H+ZkfhEhft6uDkdEhLvvvpsnnniCiy66iIsvvph169bVuF9xcXGt57jlllu45ZZbqrV9++23/OAHP8C/hizrnnvu4Z577jmtfeDAgRXLZ0yePJnJkyfXeL3Vq1+hW7cf8eyzTtfSG26oOa4vvoC1a8HPD6ZNq2w/fhyefdZJIseNg6qrbcydW7nPKYVLwOl+2qMHbNwIQ4c63Vjj4qonpCIiIu6qrgTxynocfw5/c5W69G0fhrWwfu8JRnSOdHU4IiL069ePsWPHUlJSgqenZ4Odt3fv3jzxxBMNdr6qAgPDeOGFKZxphYvx453Hl1/C11/D2LEQFASzZjndSPfvh9deg7vuqkzwyruYHjsG8+Y5yV+V1T8ASEyETz91EsQNG6Bv38Z4lyIiIg2vrjGIi5syEHH0iS2fqCZTCaKIuI3p06e7OoSzMmDAraclh++8AwcPOhPR3Hxz9W2JifDKK06C6OVFxbExMc54xIwM53lV4eHO5DZHjsCpQyjbt4fsbOd6e/ZA2Rw+IiIibk+rB7uZsAAf4iMDWbsn09WhiIi0KFddVf11RgZERDjPt2ypnLU0J8cZW+jh4XQjzciAVq1OP19OjjPjaWgNk04bA716OUlply6csZIpIiLiLvRflhtKah9G6vajrg5DRKRF+/xzJ/kzxknyymcw3bULFi1yEkQPD6e96jDJuXOd9pISuOgip0tqTXr3hmXLnH2qKiqCqj1rhw1zHiIiIu6g0RJEY8zzwETgsLX2tMm9jTE3Aw+WvcwG7rDWri3bthPIAkqAYmvtwFOPb8n6xoby9pp9HDiRR9vQGqbIExGROtVnncHrr6+5vWdP51GT++6rfwxt28Kvf316+yOP1P8cIiIiTa3WZS5qY4x50RjzjDHmTCs6zQUm1LF9BzDGWtsH+C3wr1O2j7XWJl1oySFAUgenL9PqXZmuDURERERERC4oZ50gAnOAz4Epde1krV0CHKtje6q19njZy6+A2HOIpUXq2TYEP28PvtlV67dPRERERESkwRlrbf12NCYYsNba7Hqf3Jg44P2aupiest9PgO7W2tvLXu8AjgMW+Ke19tTqYtVjZwAzAKKioga8/vrr9Q3PrT32dR4FxfDI8JbTxTQ7O5ug2gbriFvQPXJvTX1/dnxRCkD8+HP5W+KFSZ8h96d75N50f9yf7pH7Gzt27Krz6YV5xjGIxphEYB4Q7rw0R4Cp1tqN53rRU84/FrgNGFmleYS1dr8xpjXwmTFmc1lF8jRlyeO/ALp162aTk5MbIiyXW1W4hadTtjNo2EgCfVvGXEIpKSm0lPvTUukeubemvj/HV60GIDm5f5Nd82ytXLmS2267ja+//pqSkhIGDx7MggUL6N37TKMgGoc+Q+5P98i96f64P92jlq8+mcc/gfuttYsAjDHJwHPA8PO9uDGmD/Bv4DJrbUZ5u7V2f9nXw8aYt4HBQI0JYks1oGMrSkqt1kMUEanDoEGDmDRpEr/61a/Iy8tj8uTJLksORUREWoL6JIiB5ckhgLU2xRgTeL4XNsZ0AP4LTLHWbq3SHgh4WGuzyp5fAvzmfK/X3PTv2ApjYOXOY0oQRUTq8PDDDzNo0CD8/PyYPXu2q8MRERFp1uqTIKYbY/4PmF/2ejLODKR1Msa8CiQDkcaYvcAjgDeAtfZZ4GEgAnjaGAOVy1lEA2+XtXkBr1hrPz6L99QihPh5071NCN/sPH7mnUVEGtL27fD440x8fh5eBbnwaBBMngwPPACdOrk6utMcO3aM7OxsioqKyM/PJzDwvP+GKSIicsGqT4I4HXgUp9pncLp63nqmg6y1N55h++3A7TW0pwN96xFXizcorhVvrtpLcUkpXp6aJEJEmsBHH8E110BREd5FRU5bVhb8+9/w4ovw5ptw2WWujfEUM2bM4Le//S07duzgwQcfZM6cOa4OSUREpNk6Y4JYthTFPU0Qi5xiYFw485bvYvPBLHq3C3V1OCLS0m3f7iSHubmnbysqch7XXAPr1rlNJXHevHl4eXlx0003UVJSwvDhw1m4cCHjxo1zdWgiIiLNUq0JojHmSWvtfcaY93CWm6jGWjupUSMTBsW1ApxxiEoQRaTRPf64kwTWpagI/vY3cJMq3dSpU5k6dSoAnp6erFixwsURiYiING+1roNojBlgrV1ljBlT03Zr7eJGjewc9AoLsx9+r2XlrWt2ZxLo50nX1sGuDuW8ZWZmEhYW5uowpA66R+6tse9P+wWv4XGmBBEo9fZmz/U3NFoczZk+Q+5P98i96f64P90j9xf30vzGWQfRWruq7GmStfbvVbcZY+4F3C5BbImC/b04kVuExRkAKiLSWEw9ksOz2U/gyXVXEel3ouL19+JWEOpTvQtv6sEebD/ZFoMlwKuAS9qvJsg7nxOFAczbchGtfLMAaBtwnPGxaQD8Z9Ol+HgUY0wp1nowrM23dA49UO28n+zpT9uA4/SJqJxXbtuJtqzPiCen2BeA3GI/DBZ/rwIAbuycQm6xLwv3JXGsIBiLIT74IKPbrsfTo+Y/KIuISMtSawWxYgdjVltr+5/StsZa269RIzsH3bp1s1u2bHF1GA3q9ZV7+Nlb6/h01mi6RjfvKqIWVnV/ukfurdHvT0iIMyFNffY7ceLM+12ATr1Hf/gDPPRQ3ccUFICvk6+xYgUcOQITJ0JmJrzyCtx55+nHPPkkzJgBAQFw9CjMnw+zZlXfZ9s2WLoUbrmlsu3NN6FLF+jbtzxe8PGB4WUrG1vrzEc0cCD06welpfDee+DvD5dcUv/vgzvTv3PuTffH/ekeubHCXNiViul68XlVEGudGtMYc2PZ+MN4Y8z/qjwWARm1HScNa1inCABStx11cSQi0uJNngze3nXv4+0NU6Y0TTwXiPLkEKCw8OyPLyhwErhTJSQ4yWN5zl9UBOnp0L177efasQO8vJzkEMDDAyZMgDVrzjw8VUREmlhpKexfA18+DnMnwp86wss/OO/T1jWLaSpwAIgEHq/SngWsO+8rS720Dw+gfbg/y9MzuGVEvKvDEZGW7IEHnKUs6soEvL1PL1VJrYqK4NlnnedhYXBDLUM3v/gC1q4FPz+YNq2y/fhx53hfXxg3Djp2rNw2d27lPtdee/o5PTygRw/YuBGGDoUtWyAurnpCeqojR6Bt2+ptvr4QGgrHjkF09BnesIiINK7M3bB9EaQvgvTFkHfMaY/uDYNnQKex8OjF53WJusYg7gJ2AcPO6wpy3oYlRPDJxkOUlFo8PTQSUUQaSadOTh/EsnUQqyWK3t7O48033WaJi+bA2xtmzjzzfuPHO48vv4Svv4axYyEoyMnFAwJg/3547TW4667KBO+WW5xtx47BvHlO8ufjU/28iYnw6adOgrhhQ2XX0tpYC0b/zYiIuI/8k7Dzy8qkMGOb0x7UBrpOcBLChGQIat1glzzjOojGmKHAP4AegA/gCeRYa0MaLAqp0/BOkbz+zV42HTip5S5EpHFddpmzzuHf/kbRf+biVZCLCQ52upXOmqXksAG88w4cPAjBwXDzzdW3JSY64w7HjnW6enqV/S8dEwPh4ZCR4TyvKjwcAgOd6l+7dtW3tW8P2dnO9fbscXL/urRuDZs2VW8rKHCGnIaHn/VbFRGRs1VSDPtWOcng9oWw9xuwJeAdAHEjYeBtTlIY1b3R/qJ3xgQRmAPcALwBDASmAp0bJRqpUfk4xOXbM5Qgikjj69QJ5szh/fjpAFz9QP8zHCBn46qrqr/OyIAI5595tmyByEjneU6OM7bQw8PpRpqRAa1anX6+nBxnQpvQGv57MAZ69XKS0i5dKhPO2sTHw+efO91d+/Z1hrd88gkkJZ15eKqIiJwDa+FYupMMbl/kVAsLTgIGYvrByPsgYSy0HwxedYwRaED1SRCx1m4zxnhaa0uAF4wxqY0cl1QRHeJHQlQgqduP8sPRCa4OR0REGtDnnzvJnzFOkjdxotO+axcsWuQkiB4eTnvVyWjmznXaS0rgooucLqk16d0bli1z9jkTY+D66+GDD2DxYuf3li5dnO6vIiLSQHKPQXpKWZUwBU7sdtrDOkCvq50KYfwYCHBN1436JIi5xhgfIM0Y82eciWsCGzcsOdXwThG8vXofRSWleHvWOvmsiIi4kTMtcQFOQlaTnj2dR03uu6/+MbRtC7/+dc3bapqpPjQUbrqp/ucXEZEzKC6APSsqxxHuTwMs+IZA/GgYcQ90GgfhCW4xELw+CeIUnOUw7gZmAe2B7zdmUHK6YQmRvPTVbtbtPcGAjjX0MRIREREREdezFg5vKqsQLoJdy6AoF4wnxA6C5F84VcKY/uBZrw6dTeqMEZXNZgqQDzxqjGkF3An8vjEDk+qGd4rAGPjyuyNKEEVERERE3EnWoSrdRhdB9kGnPaIz9JvsjCOMGwl+7j/PZ619FY0x7Y0x/zLGvG+Mud0YE2CMeRzYAjTcPKpSL60CfegbG8birUdcHYqIiJxi5cqV9OnTh8LCQnJycujVqxcbNmxwdVgiItJYCnNh2+fwyS/h6eHweFd4ewZs/QQ6DodJ/4D7NsCPV8Hlf4HulzeL5BDqriDOAxYDbwETgK+AjUAfa+3BJohNTjG6axRzFn5HZm4hYQE+Zz5ARESaxKBBg5g0aRL/+c9/ePfdd5k8eTK9e/d2dVgiItJQSkvh4DpnttH0RbD7KygpBE8f6DAUxj/idBtt09eZQawZqytBDLfW/rrs+SfGmEPAIGttQeOHJTUZ0zWK2V98x9JtR5nYJ+bMB4iISJN5+OGH6dGjB5GRkcyePdvV4YiIyPnK3FPZZXTHYsjNcNpb94LBM5xuox2Hg0+Aa+NsYHWOQSwbb1g+lc5BIMAYEwhgrT3WyLHJKfrGhhLq783iLUeUIIqIuJljx46Rn59PVlYW+fn5BAZqwm8RkWYl/yTsXFqZFGZ857QHRUPni52ZRhOSITjapWE2troSxFBgFZUJIsDqsq8W0IJ8TczL04ORXSJZvPUI1lqMG0yDKyIijhkzZnDrrbfi7+/Pgw8+yJw5c1wdkoiI1KWkGPavrlx+Yu9KKC0GL3+IGwEDb3WqhK17uMXyE02l1gTRWhvXhHFIPY3pGsUH6w6w+WAWPdo2j4GuIiIt3bx58/Dy8uKiiy5i1KhRDB8+nIULFzJu3DhXhyYiIuWshWPpVbqNfgkFJwADMUkw/B5nHGH7IeDl6+poXcb9Ft6QOo3pGgXAkq1HlCCKiLiJqVOnMnXqVFJSUvD09GTFihWuDklERAByj8GOJZWTy2TudtpDO0CvK50KYUIyBIS7NEx3ogSxmYkO8aN7m2BSthzhR2M6uTocERERERH3UVwIe1ZUVgn3rwEs+IZA3KiyKuE4CE+4oLqNng0liM3Q2O6teW5JOifyigj193Z1OCIiIiIirmEtHNlcOY5w5zIoygHjCbEDYcyDTkLYbgB4KvWpjzN+l4wx8621U87UJk3n4p7RPJOynZQth7kyqZ2rwxERERERaTrZhyE9pTIpzDrgtId3gqQbnYQwbiT4hbo0zOaqPml0r6ovjDGewIDGCUfqIyk2jMggHz7fpARRRERERFq4ojzYlVrZbfTQBqfdv5UzfjBhrDO5TFgHl4bZUtSaIBpjfgE8BPgbY06WNwOFwL+aIDaphYeHYXz3aD5cf4DC4lJ8vDxcHZKIiLRQjz4K0VWW/LrhBggLq77PwoWwZYsznCcwEK66CoKDITMT5syByEhnv9hYmDjRef7kk+DjAx4eUFoK48ZB9+6nX3/NGli+3Dm3tc5+27fDnj1QUgLHj1eef/Ro6NEDvvwS0tKcY4KD4fLLoXVrZ58334xl8GAIaFnrWou0LKWlcGi9kwxuXwi7v4KSAvD0cWYYHf+wkxS27Qsenq6OtsWpa5mLPwJ/NMb80Vr7iyaMSerh4p7RLPhmD1/vOMbILpGuDkdERFoob2+YObPufUaMcBI3gBUrYPHiykQwPLz242+5xUnUjh6F+fNPTxBPnoQlS+BHPwI/PygshJycyv0yM+GVV6qf/+uvneTxjjuc2Ldvh1dfhbvuAi8NPxJxXyf2lVUIF0L6Ysg96rS37gmDbncqhB2Hg0+ga+O8AJzxn0pr7S+MMe2AjlX3t9YuaczApG4jOkfi5+3B55sOKUEUERGX8q2yXFhh4dkfX1AA/v6nt+fkOOf28XFe+/hUPq/N0qVO4uldNodbp07Qvj2sWwf9+599bCLSSAqyYOfSynGER7c67YGtofP4yuUnQtq6NMwLUX0mqXkMuAH4Figpa7aAEkQX8vfxZGTnKD779hCPfK8nRtP0iohIIygqgmefdZ6HhTldTGvyxRewdq1T6Zs2rbL9+HHneF9fp8rYsWPltrlzK/e59trTzxkd7XRZ/fvfIT7e6T7arVvtsRYUOPGGn7KcWUwMHDlypncqIo2qpNhZcqJ8HOHer6G0GLz8ncpg/6nO5DKte2r5CRerT2eLq4Fu1tqCxg5Gzs4lPaP5fNMhNh3IomdMiKvDERGRFqg+XUwBxo93Hl9+6XTzHDsWgoJg1iynG+n+/fDaa05Xz/KKY3kX02PHYN48iIurXiH08IDJk51j09Phk0/gwAFITm6ENyoiDe9YemWFMH0JFJwADLTtA8N/7FQJ2w8Bbz9XRypV1CdBTAe8ASWIbmZcj9Z4GPh4wwEliCIi0mTeeQcOHnQmgLn55urbEhOdcYFjxzpj/srH/cXEOJW9jAzneVXh4U6l8MgRaHfK5NzGOG3t2jndRd95p/YE0dfXSWiPH4dWrSrbDxyoXrkUkUaSdxx2LKmcXCZzl9MeEgs9JznjCOOTITDClVHKGdQ1i+k/cLqS5gJpxpgvqJIkWmvvafzwpC6RQb4MiY/gg/UHmHVxV3UzFRGRJnHVVdVfZ2RARNnve1u2VM4qmpPjjC308HCStoyM6olbuZwcZ8KZ0FOWLMvKguxsaFs2BOngwdNnUD3ViBHw0UdOl1Vvb6fyuHt35aQ5ItKAigth78rKyWX2rwFbCj7BED8Kht3tJIURndVttBmpq4L4TdnXVcD/miAWOQeX92nL/72zga2HsunWJtjV4YiIyAXo88+d5M8YJ8krT8Z27YJFi5wE0cPDaa86Gc3cuU57SQlcdJHTJbWqkhL49FMnUfTycrqjninRGzwY8vLgmWeceIKCnHGT5ZPWQOU2gF694NJLz/tbIHJhsJaAnD3w1TNOlXDnUijKAeMJ7QbA6J863UZjB4Kn95nPJ26prmUuXmzKQOTcTOjVhkfe3cAH6w8oQRQRkQb30ENn3uf662tu79nTedTkvvvOfN6wsOoT3tS0/c47q7cZ43RBra0b6jXX7CU5ufOZLy4ijuwjkJ5SMbnM4Kz9Tnt4AvS9wZlYJn4U+IXWeRppPuozi+l6nK6mVZ3AqTD+zlqb0RiBSf1EBfsyOD6cD9cf4P6Lu7o6HBERERFpzoryYPfyysllDq532v3CIGEMW4pj6XbZj6CVBva2VPWZpOYjnOUtXil7fQNgcJLEucD3GiUyqbcrEtvyf+9uZOuhLLpGq4ooIiIiIvVUWgqHNlQuP7F7ORTng4e3M8PouP9zxhG2TQIPTw6kpNBNyWGLVp8EcYS1dkSV1+uNMcustSOMMZMbKzCpv0t7t+Hh/23kg3UH6HqxEkQRETl7K1eu5LbbbuPrr7+mpKSEwYMHs2DBAnr37u3q0ESkoZ3cXznTaHoK5B512qN6wMDpzjjCjsPBN6jO00jLVJ8EMcgYM8RauwLAGDMYKP9pKW60yKTeWgf7MTgunA/WH+C+i7poNlMRETlrgwYNYtKkSfzqV78iLy+PyZMnKzkUaSkKsp0JZcqrhEe3OO2BrZ0xhJ3GQkIyhMTUeRq5MNQnQbwdeN4YE4TTtfQkcLsxJhD4Y20HGWOeByYCh621p/0PY5ws5u/A5ThLadxirV1dtm1C2TZP4N/W2sfO6l1dgCYlxfDLtzewcf9JerfTIGERETl7Dz/8MIMGDcLPz4/Zs2e7OhwROVelJc6SE+XjCPd8DaVF4OXnVAb7TXYSw+heWn5CTnPGBNFauxJINMaEAsZam1ll8+t1HDoXmAPMq2X7ZUCXsscQ4BlgiDHGE3gKuBjYC6w0xvzPWvvtmWK9kE1MjOHR/33L22v2KUEUEZFzcuzYMbKzsykqKiI/P5/AwEBXhyQi9XVsR2WFcMcSyM902tv0gWF3Oglh+6Hg7efSMMX91ZogGmMmW2tfMsbcf0o7ANbaJ+o6sbV2iTEmro5drgTmWWst8JUxJswY0xaIA7ZZa9PLrvda2b5KEOsQGuDN2O5R/G/tfn5xWXe8PD1cHZKIiDQzM2bM4Le//S07duzgwQcfZM6cOa4OSURqk5fpJILlSeHxHU57SDvoMdEZR5iQDIGRroxSmqG6KojlfzZsrFlP2gF7qrzeW9ZWU/uQRoqhRbm6Xzs+2XiI1O0ZjO4a5epwRESkGZk3bx5eXl7cdNNNlJSUMHz4cBYuXMi4ceNcHZqIAJQUwd6VlZPL7F8NthR8giBuFAy9w0kKI7uo26icF+MU8Brp5E4F8f1axiB+APzRWru07PUXwM+ABOBSa+3tZe1TgMHW2h/Xco0ZwAyAqKioAa+/Xlev15atsMRy36Jcklp7MaOPr6vDOU12djZBQZoNy53pHrm3pr4/O74oBSB+vHok1Jc+Q+5P98i96f5UYS0BuftodXwNrY6vJSxzPV4l+Vg8OBnSheOt+nK8VRInQ7phPeozrUjD0D1yf2PHjl1lrR14rsef8afJGNMVZ3xgtLW2tzGmDzDJWvu7c71omb1A+yqvY4H9gE8t7TWy1v4L+BdAt27dbHJy8nmG1bxdeWId76btZ/DwkQT4NN0/FvWRkpLChX5/3J3ukXtr6vtzfNVqAJKT+zfZNZs7fYbcn+6Re7vg70/OUWfZifLJZU7uc9pbxUO/myBhLCZ+NKH+YYTijMtqahf8PboA1CeDeA74KfBPAGvtOmPMK8D5Joj/A+4uG2M4BDhhrT1gjDkCdDHGxAP7gBuAm87zWheMq/vF8urXe/hk40Gu7hfr6nBEREREpDZF+c7C9OXjCA+uc9r9QiF+DIz+idNtNDzetXHKBaU+CWKAtfbrU9bWO+P6h8aYV4FkINIYsxd4BPAGsNY+C3yIs8TFNpxlLm4t21ZsjLkb+ARnmYvnrbUb6/uGLnSD4lrRMSKABSv3KEEUERERcSfWwqENlRXCXalQnA8e3tB+MIz7FSSMg5gk8PB0dbRygapPgnjUGNMJsADGmGuAA2c6yFp74xm2W+CuWrZ9iJNAylkyxnDdwPb85ZMt7DyaQ1ykpigXERERcZmTByorhOmLIOeI0x7VHQbc6ixS33EE+Gpcn7iH+iSId+GM8etujNkH7ABubtSo5LxcMyCWxz/dwuvf7OFnE7q7OhwRERGRC0dhDuxcVpYULoQjm532wChn2Yny5SdC27kySpFa1bUO4pPAMiDVWnuRMSYQ8LDWZjVVcHJuokP8GNutNW+u2sv9F3fVmogiIiIijaW0BA6kOcng9hTYswJKi8DLDzoMgyRnchmie4OHficT91dXBXEbcDXwl7Lxh6nAMmNMKrDWWlvaBPHJObp+UHu+2HyYlC1HuKhntKvDEREREWk5ju+s7DKavhjyM532NonOeoSdxjrJobe/K6MUOSe1JojW2jnAHABjTFtgBDAcuB+IAkKaIkA5N2O7tyYyyJfXVu5RgigiIiJyPvIyYeeXlUnhsXSnPTgGul8BncY5s44GRbk0TJGGUOcYROOUDhNxEsMRQE/gO2Be44cm58Pb04NrB8byz8Xb2ZeZR7sw/QVLREREpF5KimDvN5WTy+z7BmwpeAdC3EgY/COnShjZFarP9C/S7NU1BvEznCphGvAV8Adr7aYmiksawM1DOvDPxdt5+atdmqxGREREpDbWQsa2ygrhji+hMAuMB8T0h1EPOOMIYweBl4+roxVpVHVVENOBvkAXIANnuYsj1tqjTRKZnLfYVgFc1COa11bu4Z7xXfDz1no6IiIiIgDkZMCOlMrJZU7uddpbxUHiNU6FMH40+LdyYZAiTa+uMYg/AjDGhABDcbqZ3mWMiQI2WGunNU2Icj6mDY/j028P8f66A1wzINbV4YiIiIi4RlE+7Pmqskp4YB1gwS/USQRH3e8kheEJro5UxKXqsw5iAZAL5JU9jwVUW28mhneKoHPrIF5M3ckP+rfDqJ+8iIiIXAishUMbK8cR7kqF4jzw8ILYwTD2IWdymbZJ4FmfX4lFLgx1jUH8G07VsAvOOMRU4J/ANGttZlMEJ+fPGMO0YR35v3c3krYnk34d1E1CREREWqisg5UVwu2LIOew0x7ZFfpPdRLCuBHgG+zaOEXcWF1/LtkBvAyssdaWNFE80giu7h/Lnz7ewoupO5UgioiISMtRmONUBsuTwsPfOu0BEc6kMp3GQkIyhGqYjUh91TUGcXZTBiKNJ8jXi2sGxPLyil08dEUPWgf7uTokERERkbNXWgIH1lZWCPesgJJC8PSFjsOgz/VOUhidCB4ero5WpFlSh+sLxLThcby4fCcvpu7kp5dqyQsRERFpJo7vqkwIdyyGvONOe3QiDPmRUynsOBy8teazSENQgniBiI8MZEKvNsxfvos7kjsT5KtbLyIiIm4o/4SzDmF5Unhsu9Me3Ba6XlbZbTSotUvDFGmp6pUlGGP6AqPKXn5prV3beCFJY5k5phMfbTjIqyt288PRmsJZRERE3EBJEexbBdsX0W/NO7D4O7Al4B3oTCgz6HZncpmobqDZ2EUa3RkTRGPMvcAPgf+WNb1kjPmXtfYfjRqZNLi+7cMYlhDBf5buYNrwOHy81DdfREREmpi1kLG9SrfRJVCYBRhMcGcYOcupEsYOBi+trCbS1OpTQbwNGGKtzQEwxvwJWA4oQWyGZiZ3YtrzX/NO2j6uG9je1eGIiIjIhSD3GKSnwPaFztcTe5z2sA6Q+ANnHGH8aFZ/vY7k5GQXBioi9UkQDVB1mYuSsjZphkZ3iaRn2xD+uXg71/SPxcNDt1JEREQaWHGBM8Po9oVOlfDAWsCCbyjEj4KR9zlJYXiCuo2KuJn6JIgvACuMMW+Xvb4KeL7RIpJGZYzhR2MSuPe1ND7bdIhLe7VxdUgiIiLS3FkLhzeVVQgXOWsTFuWChxfEDoLkXzjdRmP6g6cmyhNxZ2f8hFprnzDGpAAjcSqHt1pr1zR2YNJ4rkhsy+OfbuUfC7/jkp7RGP3lTkRERM5W1sGybqOLnK/ZB532iC7Qb7IzsUzHEeAX4sooReQs1WeSmvnW2inA6hrapBny8vTgnvFd+Mkba/ns20NcoiqiiIiInElhrlMZLJ9c5vBGp90/3Fl2otM452uY5jgQac7qU+PvVfWFMcYTGNA44UhTuSophqcWbeOJz7ZyUY9ojUUUERGR6kpL4eDasgrhItj9FZQUgqcPdBgGF/3aGUfYpg94aGZ0kZai1gTRGPML4CHA3xhzsrwZKAT+1QSxSSPy8vTg3vFduG9BGh9vPMjliW1dHZKIiIi4WuaesgrhQkhfDHnHnPbo3jB4hjOOsMNw8AlwbZwi0mhqTRCttX8E/miM+aO19hdNGJM0ke/1jWHOom387bOtXNqrDZ6qIoqIiFxY8k/CzqWVk8tkbHPag9pA10udCmFCMgRHuzRMEWk69ZmkRslhC+XpYbjvoi7c/coa3l+3nyuT2rk6JBEREWlMJcWwb1XlOMK9K8GWgHeAM6HMwOnOWMKo7hfc8hN/+AM89FDl67Q02L8fLr/83M+5fz+sXQuXXXbu51iyBNavd3rxGgMTJ8LSpZCZCYWFkJMDrVo5+15xBcTEwGefwZYtzv5RUU57SNlcQae+T5FTaZ7hC9zlvdvSvc02/v75d1ye2BZvT40hEBERaTGshWPplQvU71gCBScBAzFJMOJeJyFsPxi8fF0cbPNWWlp9KGZpqZOsxcSc+zn27IGtW+FHPwIvL8jNhZISuOEGZ/vOnZCaCjfdVHnMp59CQQH8+MfOudasgQUL4PbbL7icX86REsQLnIeH4SeXdOP2ed/w2te7mTIsztUhiYiIyPnIPQY7FldOLpO522kP7QC9rnISwvgxEBDu0jCbky1bnEpeSQkEBMD3vw9BQZCSAllZTjUvIAAiIqq/HjCgMoErLISPPoJDh5xEMDkZund3KpVbt0JxMRQVwbRpldfNznbO41X2G3vAGYZ+FhU5CeF991Ummv36OW07dkBCQkN/Z6QlOptlLupsk+ZrfI/WDE0I52+ff8eV/doR4uft6pBERESkvooLYM/XlZPL7E8DLPiGQPxoGH6PkxSGJ6iEVIeiInj22crXeXnQrZvzvEOHygrc6tWwbBlceqmzbf9+mD4dvL2dhLHq6507K8/35ZcQHw9XXgn5+fDcc5UJ2969cMcd4O9fPaZOnWDxYvjHP5x9e/WCuLja38OxYxAaCr6nFINjYuDIESWIUj9a5kIwxvDLy3vyvTlLeSZlOw9O6O7qkERERKQ21sKRzU4yuH0R7FoGRblgPCF2ECT/3Jlcpt0A8FRnsfry9oaZMytfl49BBDh5Et5806kOlpRUjvkDJ4n09q79dbnt251KZGqq87q4GE6ccJ4nJJyeHAL4+MCMGbB7t1MBfPNNuOgiSEqq+T1Yq78ByPnTMhcCQGJsKFf3a8d/lu5g8tCOtAur4V8pERERcY2sQ84YwvRFztesA057RGdIutlZfiJuJPiFujLKFuujj2DYMCf527nTqRSW8/Gpvu+pr8tZC9ddB5GR1dv37av9GHC6isbFOY/oaCdxrS1BDA93urcWFFSvIh44AF271n4Nkaq0zIVU+Mml3fhw/QH++skW/nZ9kqvDERERuXAV5sLu1LJxhClwaIPT7h8OCWOcCmGnsRDWwaVhXijy8yE42HmelnZu5+jcGb7+2pnR1BgnaWt7hmWojx519o2IcF4fPAhhYbXv7+PjJI+ffOLMdurh4cyiWlTkdG8VqY/69Dt43xgTaK3NMcZMBvoDf7fW7mrk2KSJtQvz57aR8Tydsp1pw+NIah/m6pBEREQuDKWlcHBd5fITu7+CkgLw9IH2Q2D8I05C2KZv9WkupUkkJ8MbbzhJYmysU6U7W6NHw8cfwzPPOK/DwqrPPlqT8olt8vOd2x4eDt/7Xt3HjB/vzGT6j384yWVkJFx/fWXX06IieOKJyv2HDXMeIuXqkyA+A/Q1xvQFfgb8B5gHjGnMwMQ17kjuxBur9vLwuxt4+84ReHqoI7uIiEijOLG3cqbR9BTIzXDaW/eCwT90qoQdh4FPoEvDvFCcujZgUlJlV87u3Z3HqZKT635d3jUUnHGJNSV3Va9zqpgYuO222mOuev5yXl51r934yCO1bxOB+iWIxdZaa4y5Eqdy+B9jzLQzHiXNUrCfN7+6ogf3vpbGq1/vZvLQjq4OSUREpGUoyIKdSysnl8n4zmkPiobOFzsVwoRkCG7j0jBF5MJWnwQxq2zCmsnA6LJZTLUOQgs2qW8Mr369m798soXLerchIkgL54qIiJy1kmLYv6ZskfpFsHcllBaDlz/EjYABtzhJYeuemnpSRNxGfTqxXw8UALdZaw8C7YC/NGpU4lLGGH57ZW9yCor508ebXR2OiIhI83EsHVb+G167Gf6cAP+5CFL+CEV5MPzHMPV/8PNdMPktGH43RPdSctjEVq5cSZ8+fcjPzycnJ4devXqxYcMGV4cl4jbOWEEsSwqfqPJ6N84YRGnBukQHc9vIeP65JJ3rB7VnQMdwV4ckIiLifnKPwY4llZPLZJbN4RfaHnpOchaojx8DgRGujVMqDBo0iEmTJvGrX/2KvLw8Jk+eTO/evV0dlojbOGOCaIzJAmzZSx+c7qXZ1lottNPC3TO+C/9bu5+H/ruB9348Eh8vzZomIiIXuOJC2Pt15eQy+9eALQWfYIgf7VQJE8ZCRCdVBt3Yww8/zKBBg/Dz82P27NmuDkfErdSnghhc9bUx5ipgcGMFJO4j0NeL313Vm9te/IanFm1j1sVaYVVERC4w1sKRLWUVwoWwcxkU5YDxhNiBMPpnzjjCdgPAU1M0NBfHjh0jOzuboqIi8vPzCQzUTLHSPJSUlpBVmEVmQSYnCk9wouCE87zK1/NVn0lqqrHWvmOM+Xl99jXGTAD+DngC/7bWPnbK9p8CN1eJpQcQZa09ZozZCWQBJTgzqQ4821jl/I3vEc3V/drx1KJtTOjdhh5tQ1wdkoiISOPKPuIsO7F9ofM1a7/THt4Jkm50KoTxo8BPnamaqxkzZvDb3/6WHTt28OCDDzJnzhxXhyQXoKKSIjILMjlecJzM/EwyC5zH8fzjFc8zCzI5WXCy4nlWYRa2onNndR7GgxCf8/9dvT5dTL9f9brAQKglqurHeQJPARcDe4GVxpj/WWu/Ld/HWvsXyia8McZ8D5hlrT1W5TRjrbVH6/NGpPE8PLEnX353hJ+9uY637xyOl6e6moqISAtSlAe7UsuqhClwaL3T7t/KGT/YaayTFLbS0k8twbx58/Dy8uKmm26ipKSE4cOHs3DhQsaNG+fq0KQZKyot4kTBiYrkrmqSVy3hyy9LCAsyySnKqfV8gd6BhPmGEeobSphvGO2C2jnP/cII9QmtaK/6NdgnGA/jgbnx/Lq316eCWHVJz2JgJ3BlPY4bDGyz1qYDGGNeKzvu21r2vxF4tR7nlSbWKtCH31zZmztfXs1zX+7gjuROrg5JRETk3JWWOklg+TjCXcuhpAA8vKHDUBj3f87kMm37goenq6OVBjZ16lSmTp0KgKenJytWrHBxROJuypO9qsnc8fzjTgJYVu07XnC8WkKYXZRd6/nKk70w3zDC/MKIC42reN3KrxWhvqG08m1FmF8YrXyd1z6ePk34jqsz1tZeDCyrAt5jrf3bWZ/YmGuACdba28teTwGGWGvvrmHfAJwqY+fyCqIxZgdwHKda+U9r7b9quc4MYAZAVFTUgNdff/1sQ5V6mrMmn7QjJTwyzJ/2wWdfRczOziYoKKgRIpOGonvk3pr6/uz4ohSA+PHqNVBf+gy5L9/8o7Q6nkbwkW+IyvoWnyJnnE5OQAeOhSdxvFUSmWG9KPX0c3GkFzZ9htxfc7xHhaWFZJdmk12STVZpFtklzvPs0myySrIqtuWU5pBTkkOezav1XL7Gl0CPQII8gwj0CCTQM5Agj1OeV2kL8AzA2zTt+OSxY8euOp/heXVWEK21JcaYScBZJ4hATbXN2rLR7wHLTuleOsJau98Y0xr4zBiz2Vq7pIYY/wX8C6Bbt242OTn5HEKV+kgcWMClT37Jy9u9eOeuEfh5n91fVVNSUtD9cW+6R+6tqe/P8VWrAUhO7t9k12zu9BlyIwVZzoQy5ctPHN0CQKF3GD49JjhdRhOSCQxpSyDQ3rXRShl9htyfO9yjvOI8juUf43j+cY7lH6t4ftrrAud1XnHNCZ+Phw+t/FoR7h9OO792tPJrVVHBK6/oVa30hfmGubSy11Tq08U01RgzB1gAVHSUtdauPsNxe6n+720ssL+WfW/glO6l1tr9ZV8PG2PexumyelqCKE0nIsiXv1zbh1tfWMmfP97Cw9/r6eqQREREHKUlzpIT28tmG937NZQWg5c/dBwO/adAwlhSNx0heexYV0crIlXkFuU6yVzesYqk7tRkr2rSV1fCF+4fTivfVoT7hRMfGu8kfX6tiPCLqHge7hdOuF84AV4BGC1Hc5r6JIjDy77+pkqbBc40kncl0MUYEw/sw0kCbzp1J2NMKDAGmFylLRDwsNZmlT2/5JTri4uM7daaacM68vyyHSR3i2J01yhXhyQiIheqYzvKZhpd5CxWn182vXvbvjDsbmdymfZDwbtKt9HNKS4JVeRCYq3lRMEJMvIzyMjLqPb1WP4x53leRkUCmF+SX+N5qiV8/uEkhCYo4WsC9VkH8Zz+zGatLTbG3A18grPMxfPW2o3GmJll258t2/Vq4FNrbdVpfKKBt8tusBfwirX243OJQxreLy7vQer2DH7yxlo+vm804YEtv9QuIiJuIO+4kwiWTy5zfKfTHhILPb5X0W2UwEhXRinSIpWUlnC84Dj7CvexfP/ympO/vGMViV+xLT7tHJ7Gk3C/cCL8I6pV+MoTvPLn5V+V8LlGfZa58AV+AMRV3d9ae8aKnrX2Q+DDU9qePeX1XGDuKW3pQN8znV9cw8/bkydvSOLqp1K5//U0np82CA8PfXhFRKSBFRfC3pWV4wj3rwZbCj5BEDcKht7pzDYa0Rn0S6TIWSsqLeJ4/vHTEr2avmYWZFJqncnLOFB5Dm8PbyL8I4jwiyDSP5Ju4d2I8IuoaKv6NdQ3FA+jic/cXX26mL4LnABWAQWNG440F71iQnn4ez351TsbeDplG3eP6+LqkEREpLmzFo5urawQ7lwKhdlgPKDdABj9U6dKGDsQPJt2VkCR5sJay8nCkxzNO8qRvCMcyT1CRl4GR/KOcDTvKEfzjlYkfpkFmTWew9/Lv6LS1y6oHX0i+1QkeofSDzFqwCjntX8Ewd7BqvK1MPVJEGOttRMaPRJpdm4e0oFvdh7jic+20r9DK4Z3VpceERE5SzlHIT2lMik8uc9pD0+APtc74wjjRoF/mCujFHG5otKiirF7R/KOVCZ8uUcrEr/ytqLSotOO9/P0I9I/kqiAKOJD4xnYZmCtlb4A74Ba40g5lMLANue8goI0A/WdxTTRWru+0aORZsUYw++vTmTD/pPc89oaPrhnFNEhWj9KRETqUJQPu5dXTi5zsOzXC78wSBgDCT91ksJWca6MUqRJWGvJLc7lSO6R05K8aq9zj3K84HiN5wjzDXMSP/8oOoZ0JDLAeR7pH1nxiPKPItA7UJU+qZdaE0RjzAagtGyfW40x6ThdTA1grbV9miZEcWeBvl48c3N/Js1Zxp0vr+aVHw7B1+vs1kcUEZEWrLQUDm90EsLti5zksDgfPLyh/RAY9ytIGAcxSeCh/z+k5cgpyuFQ7iGO5B7hcO5hDuce5kie87xql8+almzw8vCqSOzaBbUjKSqpWrJXXgmM8IvAW92tpYHVVUFsByQ1URzSjHWJDuav1/blrldW83/vbOBPP+ijv1CJiFzITu6v7DKangI5R5z2qO4w4FanQthxBPgGuTRMkXNRWFJYMbavIgHMK0sAqySDucW5px0b6B1YkeD1juhNhH8EUQFRRPlHOc/9nechviGazEVcpq4EcYe1dleTRSLN2hV92rLlYGdmL9xGj7Yh3Doi3tUhiYhIUynIhl3LKpPCI5ud9sAoZ9mJTuOcryExroxSpE7lyziUJ3inVv3KE8Caunp6e3jTOqA1Uf5RdGnVhZHtRlYkftEB0UQFRNE6oDWB3oEueGciZ6euBLG1Meb+2jZaa59ohHikGbvvoq5sPpjFb9//ls6tgxjVJcrVIYmISGMoLYH9aZBe1m10z9dQWgReftBhGCTd7FQJW/cCD1VBxPVyi3I5lHuIgzkHa00Aj+YdpcSWVDvOYCoqezGBMfSN6kvrgNYVyWD58zDfMPWekhajrgTREwjCGXMockYeHoa/XZ/ED55J5a6XV/PWHcPpEh3s6rBERKQhHN/pJIPbFzqL1ednOu1t+sCwO53lJzoMA29NViZNK6coh4M5BzmUc8hJAnOd5+VfD+UeIqsw67TjQnxCKhK9hLYJzvOySl9rf+d5pH8kXh71mdNRmqtHH4Xo6MrXN9wAYWHV91m4ELZscZZbDQyEq66C4GDIzIQ5cyCybCL/2FiYOLHyuAMH4J//hMmToXPnRn4jDaiun/gD1trfNFkk0iIE+nrx3NSBfP+ZVG55YSX/vXO4ZjYVEWmO8jJh55eVk8sc3+G0h7SD7hOdCmH8GAhSbxFpHNZasouyT0v2yiuB5a+zi7JPOzbCL4LowGjaB7dnYPRA2gS2ITowmuiA6Ioun/5e/i54V+JuvL1h5sy69xkxAsaNc56vWAGLF1cmguHhtR+/YQN06OB8bSkJoiqHck7ahwfwwi2DuP6fy5n2/Ne8PnMYIX6aYUtExK2VFMHelZXjCPetAlsKPkEQNxKGzHTGEkZ2cf6MLnIeyhdzr0j2cg9xKOcQa4+u5eVPX654fepELwZDpH8k0QHRxIXGMTRmaEXSV54Atg5ojY+nj4vembREvr6VzwsL63eMtfDttzBlCrzwAhQXg1czKUbXFeb4JotCWpze7UJ5ZvIAps9dycz5q5h762BXhyQiIlVZC0e/c5LB7Ytg51IozALjATH9YdRPnCphu4HgpV+25ewUlhRyKOcQB3IOVDwO5hys9vzU5R08jAchHiF08O9A57DOjIgZ4VT+ypK/NgFtiAyIxNtDf3SWhlNUBM8+6zwPC3O6mNbkiy9g7Vrw84Np0yrbjx93jvf1daqMHTs67Xv2OOcLD4e4OPjuO+jRoxHfSAOqNUG01h5rykCk5RndNYo//aAPD7yxlp++uZYro62rQxIRubDlHHWWnUhfBNtT4ORep71VHPS51hlHGD8K/Fu5MEhxd9ZaMgsy2Z+zn4PZB2tMAo/mHT3tuEj/SNoGtqVzWGdGthtJmwCn22d5EhjpH8nSJUtJTk5u+jclF6z6dDEFGD/eeXz5JXz9NYwdC0FBMGsWBATA/v3w2mtw111Osrh+PfTu7Rzbu7eTXDb7BFGkIfxgQCwHT+bzl0+2kNXBi7HJVrN8iYg0laJ82PNV5eQyB9c57X6hzvjB0Q84SWG4liaSSgUlBTVX/7Irn+eX5Fc7xs/Tj7ZBbWkb2JaurbrSJrANbQPbVjyiA6PV7VOajXfegYMHnYlobr65+rbERHjlFSdB9PKq7DYaE+NUCzMyoE0b2LTJmdjmyy+dDht5eVBQUL27qrtSgiiN7s7kTpzIK+JfS9L5/Qeb+OUVPZQkiog0Bmvh0EYnGUxfBLuWQ3EeeHhB+yEw9ldOt9GYfuDh6epoxUVOFp5kf/Z+9mXvY3/2/tMSwIz8jNOOifKPqkj+xsSOoW1Q22pJoJZ5kJbkqquqv87IgIgI5/mWLZWzlubkgL+/s5rP8ePOfq1aQXq6MzPqlCmV53j7bdi8Gfr2bZK3cF6UIEqjM8bwi8u6s33nbv69dAd+3p785NJurg5LRKRlOHmgchxhegrkHHbaI7vBgGlOhTBuBPhq2aELxakJ4KnPs4qqL/ng7+Vfkex1C+/mJH1l1cDy7p+q/smF7PPPneTPGAgNrZzBdNcuWLTISRA9PJx2f39n1tJTu5P27AkrVypBFKlgjOHmHj5ERbdlzqJt+Hl7cPe4Lq4OS0Sk+SnMgZ3LKpPCI5uc9oBISEh2ZhpNSIbQdq6MUhrR2SaAAV4BtAtuR7vAdgyIHkBMUAztgtoRExSj6p9c8B566Mz7XH99ze09ezqPU51agQTo1s15NAdKEKXJeBjD769OpLC4lL9+uhVjDHeNbUaLwoiIuEJpCRxIq6wQ7v4KSovA0xc6DoOkG50qYXRv50/Y0uydSwJYnvT1j+5Pu6B2FQlgu6B2hPiEKAEUkXpTgihNytPD8Odr+lBqLX/5ZAu5hcX85JJu+o9LRKSq47sqK4Q7FkPecac9OhGG3uGMI+wwDLy10HdzVFBSwL7sfezN2us8sp2vZ5MAxgTFOG2B7Qj1DdX/oyLSYJQgSpPz8vTgieuS8Pfx4qlF28kpKOHhiT3x8NB/biJygco/ATu+rJxc5li60x4cA90udyqECWMgqLVr45R6sdaSkZ/B3qy97MnaU5EAlieDh3MPV9vfz9OPdkHtiA2OVQIo0khWrlzJbbfdxtdff01JSQmDBw9mwYIF9C5fi0IqKEEUl/DwMPzh6t4E+njy76U7yC0s5o/f74OnkkQRuRCUFMHebyqrhPtWgS0B70CIGwmDZzhJYVQ3Z1YEcTv5xfmVVcBTEsB92ftOWwS+dUBrYoNiGdp2KLHBscQGxdI+uD2xwbFE+EUoARRpZIMGDWLSpEn86le/Ii8vj8mTJys5rIUSRHEZYwy/vKIHgb5e/P2L78jKL+Zv1yfh562p10WkhbEWMrZXVgh3fAmFWWA8nCUnRs5yuo3GDgYvzRbpDkptKUfzjtaYAO7N2suRvCPV9vf38qd9cHs6BHdgWMwwYoNinUQwOJZ2Qe3w9WwGi5+JtHAPP/wwgwYNws/Pj9mzZ7s6HLelBFFcyhjDrIu7Euznxe8+2MSRrBU8N3UgrQL1C5KINHM5GbAjpXJymRN7nPawjpD4A2e20fjR4N/KlVFe0EpKSziYe5DdJ3ezJ2sPu0/uZneW83xP1h4KSgoq9jUY2gS2ITY4lpHtRlZUAcuTwFa+rVQFFHFzx44dIzs7m6KiIvLz8wkMDHR1SG5JCaK4hdtHJdA21J9Zr6fxg2dTefHWwbQPD3B1WCIi9VdcQNjxdfB5ipMUHlgLWPANhYTRlVXC8ARXR3pBKSot4kD2AXZn7Wb3yd0sP7acN754g90nd7M3ey/FpcUV+/p6+lZUAUfEjKjoAhobHEvbwLZaC1CkmZsxYwa//e1v2bFjBw8++CBz5sxxdUhuSQmiuI0r+rSldYgvt7/4DVc/vYz/TBtE3/Zhrg5LRKRm1sLhb51kcPtC2JVKUnEeeHg5XUXHPuSMI4zpB57677YxFZYUsjd7L3tO7qlIBPdkOc/3Z++nxJZU7OtjfEjwTqBLqy6M7zCeDiEdKpLCqIAoPIyWChFpiebNm4eXlxc33XQTJSUlDB8+nIULFzJu3DhXh+Z29D+WuJVBceG8dcdwbnnha67753L+fE0frkzSYs8i4iayDjrdRbcvdL5mH3LaI7tC/6msz40k8Xt3gG+wK6NskfKL8yuSvopEsOz5gZwDWGzFvsHewbQPaU+viF5MiJtAx5COFYng+q/WM3bsWBe+ExFxhalTpzJ16lQAPD09WbFihYsjcl9KEMXtdG4dxDt3jeDOl1Zz72tpbD6YxU8u6aYZTkWk6RXmwK7UsnGEi5yKIUBABCQkOxXCTmMhNBaAjJQUJYfnobi0mAPZB9h5cie7Tu5i58mdFc8P5hystm+YbxgdgjvQL7ofVwZf6VQBQzrQIbgDYb5htY4H1DhBEZG6KUEUtxQZ5MtLtw/h1+9t5JmU7Ww+cJK/39iPED9vV4cmIi1ZaSkcSKtcfmLPCigpBE9f6DAULvq1M7lMdCJ4qCviubDWcjTvaEXiV54I7jq5iz1Ze6qNCQz2DiYuNI6B0QPpENKBuJA4OgR3IDY4llDfUBe+CxGRlksJorgtHy8P/nB1Ij3bhvDr/23kqjnLeHpyf7q3CXF1aCLSkmTurqwQpqdA3nGnPbo3DPmRUyXsMAx8NHHW2cgqzGL3yd2V1cATldXA3OLciv18PHzoENKBTqGdGNd+HB1DOhIXGkfHkI6aGVRExAWUIIrbmzy0I11aB3H3q2u4cs4yfnNlL64b2F6/NIjIuck/CTu/rJxc5th2pz2oDXS9zOkympAMQa1dGmZzUFhSyJ6sPdWrgSec5xn5GRX7GQwxQTHEhcTRr3U/JwkMiaNjaEfaBLTB00Pr34qIuAsliNIsDEmI4MN7RjFrQRoPvrWer9KP8burehPoqx9hETmDkmLYt6qs2+hC2PsN2BLwDoC4kTDodicpjOoO+sNTjY7nH2fHiR0Vj/QT6ew4sYP9OfsptaUV+4X7hRMXEseY9mPoGNKxIhGMDY7VQvEiIs2EfruWZiMq2JcXpw/mqUXbePLzrazdm8nTN6vLqYicwlo4lu4kg9sXOdXCgpOAcZacGHmf0220/WDwUtJSrqS0hP3Z+9lx8vREMLMgs2I/X09fOoZ0pHdkb65IuIK40DhnbGBIB0J89O+xiEhzpwRRmhVPD8M947swMK4V976WxqQ5y3hwQnduHR6Hh2Y5Fblw5R5zxg+mL4LtKXBit9Me1gF6Xe1UCOPHQEC4K6N0C7lFuew8ubNaRXDHyR3sOrGLwtLCiv3Kq4EXdbyI+JB44kOdR9vAtuoSKiLSgilBlGZpeKdIPrxnFL/47zp++/63fPbtQf56bV9iW2kSCZELQnGBM8No+eQy+9MAC74hED8aRt7rVAnDEy7IbqPWWjLyM5wqYGZ6targgZwDFft5GA9ig2KJD41nZMzIiiQwLiSOML8w170BERFxGSWI0mxFBfvy3NSBvPHNXh59byMTnvySR77Xk2sGxGoCG5GWxlo4vKly+Yldy6AoF4wnxA6C5F84VcKY/uB54fzXVmpLOZhzkG2Z20jPTGf7ie1OQnhiB1lFWRX7+Xv5Ex8aT//o/sSHxJMQlkB8SDwdQjrg4+njwncgIiLu5sL5X1RaJGMM1w1qz7BOETzwxlp++uY6Ptl4iN9d1Zs2oX6uDk9EzkfWoSrdRhdBdtlC6RFdoN9kp0IYNxL8Wv64t1Jbyv7s/aSfSGdb5ja2Z25ne+Z20k+kk1ecV7FfpH8kCaEJXJ5weUU1MCE0geiAaP3hTERE6kUJorQI7cMDeO2HQ/nP0h389dMtXPzEYn52WXduHtxBYxOl2fjDH+Chhxr2nPv3w9q1cNllte9z8CBkZUGXLqdvyzjhzbPPOs+theRk6NHDef3FF8658/MbKO7CXNidWrb8xCI4vNFp9w93lp3oNNZJCsPaN8DF3FP5RDHbT2yvVhXccWJHtUSwtX9rEsIS+EGXH5AQlkCn0E50CuukxeNFROS8KUGUFsPDw/DD0Qlc0iuaX769gf97ZwPvrNnHH7+fSNfoYFeHJ9LkSkshJsZ51OXgQSeRrClBDA0q4gczwMPDSSKffRa6dXNed+sGgwfDP/5xHgEeXFs5jnD3V1BSCJ4+0GEojH8EOo2DNn2cC7YgJaUl7M3eW1EFLE8Gd5zYQX5JfsV+0QHRdArrxDVdr6lIAhPCEjRbqIiINBoliNLidIwIZP5tg3l7zT5++/63XDH7S340uhN3je2Mv49m3pPm5dgx+PBDyMmB7dvb0Ls3REbCli2wZAmUlEBAAHz/+xAUBCkpTiKXmem0DxgAqalw001QWAgffQSHDjm5WXKykxQuWgRFRbB7N4wcCb17V17fy7MyNysurh5bbOw5vKHMPZVdRncshtyyxdRb94LBM5wKYcfh4NMyJpwqTwS3Hd9WrSq448SOajOGtg1sS0JYAoPaDKJzWGcSwhJICE0g2Ed/3BIRkaalBFFaJGMM3+8fS3K31vzu/W+Zs2gb/129l4eu6MEViW01Fkeajffeg4kTISIC3njjOB98ANOmQYcOcPvtzgSdq1fDsmVw6aXOMfv3w/Tp4O0NO3dWnuvLLyE+Hq680ukW+txzkJAAY8c6x1x+ec0x7N0L774LJ07A1VefZTEv/yTsXFqZFGZ857QHRUPni50KYUIyBEefw3fHfVhrOZJ3hE15m9i1cRdbj2+tSAarVgTbBbUjITSBYTHD6BTWiU6hTkUw0DvQhdGLiIhUatQE0RgzAfg74An821r72Cnbk4F3gR1lTf+11v6mPseK1Ed4oA9PXJ/EDYM78Mj/NnL3K2uYF7+LR77Xk14xGqsj7q2wEPbsgTfecF5v3RpBQoLz/ORJePNNp1pYUgKtWlUe162bkxyeavt2p/KYmuq8Li52kr4ziY2Fu+6CI0fgnXecqqNXbf97lBTD/tVl4wgXwr5voLQYvPydCWUG3upUCVv3aLbLT5wsPMn2zO18d/w755H5Hdsyt3GioOybeRii/KPoHNaZ67pdR+ewznRp1YWE0AQCvFtGZVRERFquRksQjTGewFPAxcBeYKUx5n/W2m9P2fVLa+3EczxWpF4Gx4fz/o9H8trK3fz1ky187x9LuWFwB+67qAutgzXbqbgna8HPD2bOdF6npOwnObkr4HQVHTbMSQZ37nS6lpbzqWXVAmvhuuucLqpV7dtXv3iiopzE8/DhKuMarXUWqf/6v86Mozu+hIITgIGYJBh+jzO5TPsh4OVbvwu5iYKSAnac2FGRBH533EkED+YcrNgnyDuIzmGduaTjJXQO60zOrhyuTb5WawiKiEiz1ZgVxMHANmttOoAx5jXgSqA+Sd75HCtSI08Pw81DOjIxMYa/fb6V+V/t4p01+7htZDwzRicQ7FdDyUXEhXx9ncrgxo3Qq5eTix08CG3aOF1Eg8uGp6Wl1e98nTvD1187M5oaAwcOQNu2TkJZUFDzMdm5npSWOt1KMzMhIwPCfI7BxiVOhTB9ESy/Frweh9AO0OtKp0KYkAwB4Q3wXWh85eMET00Ed5/cTYktAcDbw5uE0AQGRA+gS1gXurTqQpewLrQJbFOty3rKoRQlhyIi0qwZa23jnNiYa4AJ1trby15PAYZYa++usk8y8BZOlXA/8BNr7cb6HFvlHDOAGQBRUVEDXn/99UZ5P3L+srOzCQoKcnUYFQ7mlPLWd4WsPFhCsDdM7OTDuA5eeF/Ay2K42z260Lz4Ykf8/UsqXvfqdZIOHXL56qsIcnM9yc8voFu3YpKSTrB7dwBff92KgIASoqIKyMjwZcKEg6SlheHlVUrv3icBOHjQjw0bQrjoosMUFxu+/jqcw4edSl5QUDEXXXSYggIPPv00GmsNiYkniI/PAWDHF6XsPhTEcb9gAgsPEpi7h0vavssA/y8wWD7eMYGVJ8dxxCMeEx5JfE9DUr969Fl1oeySbPYV7mNf0T72F+5nf9F+DhYdpMgWAWAwRHpF0ta7LTE+Mf/f3n2Hx3kc9r7/zhZg0XthJ8ECFrAT7JJIyZIlW8WWZZuWJbpIkXvKSc5RkqvoJNHJ8yT33nNurMgliuLEjlxk2pYsy7KsQtJqBAn2AhaRYAcJAgRAAiDa7s79Y14ACxKkQBIgluDv8zx4dt95y85iCAK/nXlnuh7zAnn4zYdPcqWfofinNopvap/4pzaKf8uXL99krZ13pecPZED8NPDR80LefGvtt2KOSQei1tomY8zHgG9bayf25dzeFBcX27179w7I+5Grt3btWpYtWzbY1bjA9mMN/NNre3hv/2lGZCbxZ7dP4hOzhhPwD61p9fsiXttInCtpn4oKd9/hJz95GSdZCzV7ePE7B6C1nk+mPw4dzWD8MHKeN7HMchgxF/zxOddZOBrm8NnD7K3by776feyt38u+un2cajnVdUxOKIdJWZOYkDWhq1fwau8T1M9Q/FMbxTe1T/xTG8U/Y8xVBcSB/M1+DIhdzXgkrpewi7X2bMzzV40x3zXG5PblXJH+MmNkJj9+dCHvflDLP722h79YtY1/Wf0BX182nk/OHklC4MYLijI07N0Lq1e7WUs/VNMpdw9h55qEjSeg7ikIJsGsB919hGOXQij+Jnc603bGhcC6vS4I1u/jQMMB2iJu3GzAF6Aoo4gFwxZQnF3MxKyJFGcVk5OUM8g1FxERiT8DGRDLgYnGmHHAcWAF8GDsAcaYQqDaWmuNMfMBH3AaaPiwc0X629KJuSwev4Q3d1fzL6v38/gvd/D0W/v56rLxfGbeSBIDWkNRri/Fxe6rVx0tcPj97uUnqne68qQsd/9g0XJ4cyIEQvDxP7pWVb6kSDTC4cbD7Kvb19UruLduL9XnqruOyQ5lMylrEiuKV1CcXcykrEkUZRQR9OseYxERkb4YsIBorQ0bY74J/B63VMUPvPsLv+rt/z7wAPA1Y0wYaAFWWDfmtddzB6quIp18PsMd0wq5fWoBa/fW8PTqD/ibl3byndX7+aObi/hs6ShSE+NzSJ1cP8rLy3nkkUfYsGEDkUiE+fPn88ILL1ASu0J9f4tGoXpH9/ITR8og0gb+BDfD6G1PulA4bCb4vA9D1m4euPp8iLPtZ9lXt6+rR3BfnVtXsHNNQb/xMy5jHHML5lKcXUxxVjHF2cXkJuV+yJVFRETkUgb0L11r7avAq+eVfT/m+TPAM309V+RaMcawfHI+y4rzeG//aZ5+6wOeeqWCf35zHw/OH80Xl4xlWEbSYFdTrlOlpaXce++9PPHEE7S0tPDQQw8NTDg8c6x7yGjlH+BcrSvPnwqlj7pho2MWQ8K1WaS9qQlee80tqxEIQGYmfPSjlobwKf7rVzUULn6HjfuPsfdEFWfSN3adl5mYSXFWMZ8u/jSTsiZRnFVMSut42s4lMHGiO2bvXthzEJYuvbo6njkD//Ef8JWvQFIStLTAv/4rfPGLrr4iIiJDnbpCRC7BGMPSibksnZjLliP1PPfOQf7tnUr+/d2D3D1jGI/eVETJiPi7J0vi35NPPklpaSmhUIinn366fy7a1giH3u0OhbX7XHlKPky4zZtcZhmkFfbP610Ga+EnP4mSP7GKCXO2saduD7/df5x//ukRWtP3QgqYbYbM08so6FjKF5ctoTjLDRHNT87vsZQEuKU9qqroCoiXHE57GTIyoLQU3nwT7rnHPc6dq3AoIiI3DgVEkT6aPTqL73w+i6N15/iP9w7xQvkRXtpaxfxx2Ty0cAx3TivUhDbSZ3V1dTQ1NdHR0UFrayspKVfQixcJQ9WW7vsIj22AaBgCSa5ncM5KFwrzp7qFD6+htkgb++v3s7tuN3vq9lBeUcv2jdmkJq6CI25dwQmZE/jY6GmMCqygcs0C/upPcnjue8l0GAi/B1lLIWzgBz+Djg4IBt2EO1lZsGaNKztyxPUahsMuMH7sY269xl//Gs6dg+Rk+MQnXPB76SW3tmRVlevNvP12mDr1wrovXAjPPgtlZe76H/vYNf3WiYiIDCoFRJHLNCo7mSfvmcqffGQiL5Qf4b/KDvPHP91CbmoCny0dxefmj2Zk1pVPky83hscee4ynnnqKgwcP8vjjj/PMM72Otr9QXWX3fYQH34G2M4CBYTNg8bfcfYSjFkAwNKD1j3W2/Sx76/ay+/Ru9tbvZXfdbiobKrsWmU8NppJ99i6WT5vMfUv+F5OzJ1OUWUTQ5yaOaWiAn2yEtBAsX94d9ADa2uBLXwKfDyor4a234LOfvfC4rVu76/PqqzBzJsyaBVu2wO9+BytWuH2NjfDlL0NtLfz0p70HRL/fhcfnn4eHH3bbIiIiNwoFRJErlJEU5LGbx/Po0iLe/qCG58uO8L21B/je2gMsL87noYVjuHlSHn7fte25kfj3ox/9iEAgwIMPPkgkEmHx4sWsXr2aW2+99cKDW+rh4NtwYDULdv0O1nozdmaMgqn3uvsIxy2DlIFfssFaS01LDXvq9rD7tOsZ3F23m+NNx7uOyU3KZXL2ZJaNXMbk7MlMyZ7CiLQRlG/wUV8Pd064vNdsbYUXX4S6OrcdjX74OceOuRAJMGMGvPFG977Jk11nal6e60W8mP37IS0NTp2C8eMvr84iIiLXMwVEkavk8xmWFeezrDif4w0t/GzDEX5WfpQv/Wc5hekhPjlnBJ+aM5IJ+amDXVWJEytXrmTlypUA+P1+1q9f370z3O6GinbeR1i1BWwUEtJoTptC0vK/cKEwZ8KADhu11tIebae5o5l/2fIvVJyuYPfp3ZxuPd11zOi00UzLmcYDkx6gOKuYKTlTLjqLaF4eVFRcfj3WrIFx41wPYEMD/Od/Xtn76RTow2+9kyfhwAF49FH4wQ+gpMSFRRERkRuBAqJIPxqRmcSf31HMH982kTcrqvnFpmM8+3Yl31t7gNmjM/nUnJHcM2M4Gclak0081kLN3u77CA+9Cx3NYPwwYi7c/N/dfYQj5rLznfdYtmDZAFTBUn2uml2nd1FxuqLra2mNW372lR3PUZRRxJIRS5iaM5XJ2ZMpziomNaHvH3qMG+eGh27a5CZ9ATebaUdHzwlgEhLcsNJOra3d4Sx2GOn5x8UaNQp27nTDTHfsgNGj+1xNrIVXXoE773T3LS5eDK+/Dp/6VN+vISIicj1TQBQZAEG/j7umD+Ou6cM41djKy1urWLXxGE+8tJO/f6WC26cUcM/MYSwrzicU1A1ON5ymGqhc2x0KG6tceXYRzFzhAuG4myDU/zPkdoXB2l0uENa5nsG6VjeG02/8FGUWcdOImxi1bwzJwWSeeLCMpMDVLetijOsFfO01ePfd7mUu7ryz53Hjxrn93/++m3xmyRI3ucy6dW7fxY6LddddbpKa99/vnqSmrzZvdsGwc1hpaakLpocOwdixl/uuRURErj8KiCIDLD8txKM3FfHI0nHsqjrLLzYd4zfbqvjtjhOkJPi5fWoBd88Yzk2TckkMKCwOSR0tcGRd97DRkztceSjTLTsxfrmbXCZrTL++rLWWk80nqThdcckwePPIm5maM5WpOVOZlDWpKwy+uH4zwFWHw05pafDpT/e+7+tfd49JSfDYYz33fetb3c87b9Ps7bhZs9xjZiZ84QsXvsb5QfGv//rCY+bO7e7hBDc5zle+0nudRUREhiIFRJFrxBhDyYgMSkZk8MTHp1BWWccr26t4bddJXtpaRVoowB1TC7l75jCWjM/VkhnXs2gUqnd6PYSr4UgZhFvBF4TRC+HWv3GhcNgs8PXPhwIXhEFvmGh9Wz3gwuD4zPE9wmBxVjGhwLWb7VRERETinwKiyCAI+H0snZjL0om5PPWJEt7dX8sr207wesVJfrn5GGmhAMuK87l9agG3TMojI0n3LMa9M8e7h4xWroVzta48bwrM+7LrIRyzGBL7Z7Ki2pZadtbuZEftDnbV7uo1DN4y6ham5kxlWs40JmVNUhgUERGRD6WAKDLIgn4fy4vzWV6cT1u4hHf21fJ6xUne2n2K32yrIuAzLCzK4SNT8vnI1AKtsRgv2prchDKdobB2rytPyXf3EI5f7oaPpg+/6pdqbG9k1+ldvH7mdX695tfsqN1B9Tm33EVnGFw2almPYaIKg9fG3/0dFBS4TuPcXMjONm5dx590D5uNF7W17n7OEyfgttvcBDyd9u9360VaC3PmdN/X2dICq1a5GWQzM90Q4aT+GXEsIiJxSgFRJI4kBvx8ZGoBH5laQCRq2Xq0ntcrqnmjopq//U0Ff/ubCqYMS+eWSXncPCmXeWOyNRT1WolG3JITnfcRHt0A0Q4IhFzP4OyHXDAsmHZVy0+0RdrYU7eHnbU7u74OnT3UtX9UZBRzCuZQklPC9LzpTM6e3G/3CPaX8vJyHnnkETZs2EAkEmH+/Pm88MILlJSUDHbV+l0wCF/9qnv+y1/C3r1pzJs3uHW6mKQkN4HPnj09y6NR+O1vYeVKSE+HZ5+F4mK3NMm770JRkQuM777rvm6/fXDqLyIi14YCokic8vsMc8dkM3dMNn911xQO1DTxZkU1b+05xXPvVPL9PxwgOcHPoqIcbp6Ux82T8hibk4wZwLXxbjh1B7t7CA++Da0NrrxwBiz6huslHLUQglfWWxeOhqk8U9kjDH5Q/wFhGwbcovMluSXcXXQ303OnU7+nno/f9vF+enMDp7S0lHvvvZcnnniClpYWHnrooSEZDs83Zgzs2+d+rUaj8PLLcPSoC10rVrgwWVcHr74Kzc1u+957Xc/jSy9BYiJUVUFTkwthU6e6Hr033nA9fAA33+zWZTx0yK0RmZrq1m2cMgXy82H9erd0yIoVkJ3ds34pKe7rgw96lh8/7o7NynLbJSUuRObluccvftGVz5zp1qFUQBQRGdoUEEWuE+PzUhl/SypfuWU8ja0drDtwmrc/qOHtfbW8tecUAKOyk7h5Yh5LJ+Qyf1w2OamJg1zr60xLgwuCnZPL1B9y5ekjYMrd7j7ComWQ0vti8JdireVY4zF2nu4Og7vrdtMSbgEgLZjG1NypfLHki5TklDAtdxoFyQU9Av/aD9Ze9Vu8Vp588klKS0sJhUI8/fTTg12dAReNuuCVldUBuCD4wAMuAK5aBbt3w4wZ8JvfwN13Q04OHDvmeu46Z1xtbIQvf9kNBf3pT11A3L3bBcCvfhXOnYN/+zcXRAGqq91rJCXBt7/thob+0R9BWRls2HDhEiIX09jolvbolJ7uQiO4INu5DmVamtsWEZGhTQFR5DqUFgpyx7RC7phWCMCh2mYvLNbw4pbj/Hj9EQAmFaSysCiHhUU5LFBgvFCkA46Vux7CA6uhajPYKCSkwtibYOHXXSjMnXjZw0bPn0Rm5+mdnGk7A0CCL4EpOVO4f+L9TMuZxvTc6YxOH43PDJ3hwnV1dTQ1NdHR0UFrayspKSmDXaUB0dHh1mIEGD0a8vMbAXe/XqH78WTYMHcPX3u761Fctar7/HC4+/nkye6fWV6e60UEOHIEpk93y22kprpwWFXlehuHD+8Ob9nZ3Ws3FhS4Hsa+svZy37WIiAxlCogiQ8DY3BTG5qawctFYOiJRth87Q1nlacoqT7Nq4zF+tO4w0B0Y54/LZs7oLIZnxte9awPOWqj9wIXByjVukpn2JjA+GDEXbvoLN2x0ZCn4+z5zbFukjd2nd7O9Zjvba7ezo2YHVc1VAPiMjwmZE7ht9G2U5JZQklPChKwJBH1De2baxx57jKeeeoqDBw/y+OOP88wzzwx2lQZE7D2IAGvXusdAzG9Xn88FQWshFOp5fKzAZf5Gjj3emO5tY1yPZl+lp8OZM93bZ892B8+UFNfDmJbmHodozhcRkRgKiCJDTNDvY+6YLOaOyeIbyyfQEYmy43hnYKzjF5u6A+OwjBBzRmcxe3Qmc8dkEY4Owa6E5lq37ETn5DJnvbFzWeNgxmdcD+G4myEps0+Xs9ZytPEo22q2saN2B9trtrO3fi/hqOsKGpYyjOm503lwyoNMz3WTyCQHb6yZZ3/0ox8RCAR48MEHiUQiLF68mNWrV3Nr5yr3N6jERHef365dMG2aC4zV1d09jb0ZMwY2bnT3/7W0wOHDcMcdbhhqfxkxwg2Jra93YXHnTvjUp9y+4mLYts1NUrNtm+vlFBGRoU0BUWSIC/p9zBmdxZzRWXx9GXREolRUnWXzkXo2H2lg8+F6frvjBAABH8zc+z5zRmcyZ3QW00dmMCIz6fqa+KajFY6s655c5uR2Vx7KgHG3wM3/3fUSZo3t0+XOtp9lZ81OttduZ3vNdnbU7qChrQGApEASJbklrJy6khl5M5iRO4O85LyBeV/XkZUrV7Jy5UoA/H4/69evH+QaxY/773f3Hb79tuvlKym5dECcPNkNS+0cxnr77W6o6ZUExKYmN0NpW5vrZSwrg298wwXXj30Mnn/e1Wn2bDfhDbhguGoVbN7s7lP8zGcu/3VFROT6YuwQuvmguLjY7t27d7CrIRexdu1ali1bNtjVkF5Un21l8+F6XnpvOzXRVHYeP0t7xI1Ry0oOUjIig+neV8mIDEZmxVFojEbh1K7u+wiPrINwK/iCMGq+tx7hrTB8Fvj8l7xUOBpmf8N+N1TUGy568MxBAAyGoowiZuTNYHredGbkzmB85ngCvmv3Odu1/hl68X9vBuCTfz7nmr3m9U7/z8U/tVF8U/vEP7VR/DPGbLLWXvGiS+pBFBEK0kPcNX0YSaf3smzZEtrCESqqzrLz+Bl2HD/DjuNnefbtyq4hqJ2hsTM4Ti5MY0xOCn7fNQqNZ090zzRauRaaa1x53mSY+yUXCscsgcTUS16murm6a5jo9trtVJyu6JpVNDuUzfTc6V1LTJTklpCWkDbAb0xERERkcCkgisgFEgN+Zo/OYvborK6y1o4Ie042svP4ma7g+G8xoTEU9DGpII3igjSKC9OYMiyd4sI0cvtj5tT2Zjj0XvfkMjXeSt8peW7Zic7lJzJGXPQSreFWKk5XdIXB7TXbqT5XDUDAF2Bq9lTun3g/M3JdD+HI1JHx00sqIiIico0oIIpIn4SCfmaNymTWqMyusrZwhH0nm9hz8ix7Tzay52Qja/bWsGrTsa5jclMTmFzowuKE/FS3nmNeCtkpCRcPYNEIVG2FytVwYC0cXQ/RDgiEYPQimPUgjL8V8qe5KSJ7Ud1czdaarWw9tZXtNdupqKvomkhmROoI5hTMYUbuDGbkzWBy9mQS/An99J2Soai8vJxHHnmEDRs2EIlEmD9/Pi+88AIlJSWDXTUREZF+pYAoIlcsMeBn+sgMpo/M6FFe29TWFRj3euHxx+sP09rRPfd+ZnKwKyyOz0ulJLme4uZNZFe/h+/gH6C1wR1YOB0Wfs0NGx29CIIXLs3REe1gX92+rkC4tWYrJ5tPujr6E5mWM42VU1cyK28W0/Omk5t0+Qvdy42ttLSUe++9lyeeeIKWlhYeeughhUMRERmSFBBFpN/lpiaSOyGRJRO6g1g0aqk608KBmmYOnGri+MkTJB1/nzG7NlAa2cpYnxvuedJmsy1hLofzFtA4fAl5hSMZnZ3MmIwURvoSCQL1rfVsq9nWFQZ31e6iNdIKQEFyAbPyZ/GFqV9gVv4sirOKCV7GmoYiF/Pkk09SWlpKKBTi6aefHuzqiIjIDSAatbSGI7S0RzjXHqG1wz22dHhf7d6+jgitXvnVUkAUkWvCZ8OMPLuNkcfXcMuB1XB8E9goBFPoKFrC0dxF7ArNYWtLAQdqmzly+hyHNzfS2rEDX+Ip/EmH8ScfJjHlKNGAm5TGh58RyRNYPuIeFg6fy6IRcxiWOmyQ36kMVXV1dTQ1NdHR0UFrayspWjVeROSGZq2lPRKltT3KuY6wC2udoa3jvEB3kX2x4a7zGq0dUc61h2npiPQYfXWtKCCKyMCwFk7v715+4tC70N4IxgfD58BNf+4mlxlZSjCQwChgFLCkvZEdNTvYWrOz6/7B5nAzACFfOql2AtHWpZypH05DQyFnbJAK4OdASsI2RmTtY0RmEsMzkxiRlcSITO8rK4n8tNC1m2lVhpzHHnuMp556ioMHD/L444/zzDPPDHaVRETkEiJR26OXzQWzcI+gFvvYFdpie+kuFe46IkSil7dkoM9AckKAUNBPcoKfpKCfUIKf5KCf/LQQSV5Zkre/67jO8vMekxMC3jV87roBH8F/urrvmwKiiPSf5tNultHKNW5ymbPeZDVZY2H6A+4+wnE3Q5KbHdVay5HGI11DRbee2sqBhgNYLAbDxKyJfLzo48zKn8XMvJmMShvVY2KbMy0dHDl9jqP156hqaOFYfQtVDS0cb2hhy9EGGs519KhewGcozAgxIjOJYRkhCtJD5KeHKEwPUZCe6G0nkhi49HqJcuP50Y9+RCAQ4MEHHyQSibB48WJWr17NrbfeOthVExG5rlhraQtHuwJWa0e0K3i1xZZ1xJS1R7xhllFaw91DKWOv0f288/go7eHL730LBX1dwSsU9JGU4Cc5GCA9KUhhugtwseEuNrAln7cvNtwlBwOEEnwk+H1xP0u6AqKIXLmOVjha5noJK9fAie2AhVCGC4I3/TcXCrOL3OGRDnbX7WZL5ctsrt7M1pqt1LXWAZAaTGVm3kzuGHuHm0wmdzqpCZdexzAjKdjrJDmdmtvCXYHxeEMLx2MC5OYjDZw829rrL4+s5CAF6SHvK5FCL0jmpyWSk5pIXmoiOakJpCTqv9AbxcqVK1m5ciUAfr+f9evXD3KNRET6j7WWjojtPaR54azVe9x2tIPKdw92hbHW845v7Qpz3cGt85irGTIZ8BmSgn4Sg36SEnxdASwU9JOeFKQgPbFHWW89dEmxPXG99NCFAn58GmmkgCgil8FaqN7l9RCugcPvQ7gFfAEYOR+W/7VbfmLYLPAHaGxvZHvNdjZv+S1bTm1hR82OrslkRqaOZOmIpczKn8XsvNkUZRbhM70vWXGlUhIDTCxIY2JB7wvcW2s509LBybOtVJ9to/psK9VnWqlubOXkmTZONbay5+RZahrb6G0ESVLQT05qgpuUx3vM6XqMKUtJICMpSMDfv+9PRESGpo5ItKuXrfMx9nlbOEqbF7bawj0fzz+utcdxPXvt2sLdvW2XNVRyVwUAxtAVtlwo83UFrZTEANkpncHL1xXMEruO93X1vCUGeh4XOu+aoaCfoH6HXjMKiCJyaWdPQOXa7lDYfMqV506CuV9w9xGOXQKJaZxsPsmWU1vYXP5PbDm1hX31+7BYfMbH5OzJPDDpAWbnz2Z2/mzykvMG9W0BGGPITE4gMzmByYUXPy4ciXK6uZ1TZ9uobW6jtrGN083t3Y9NbRxvaGXbsTPUNbdf9JdseihAVop7vcykIFnJQTKTE8hKTiArpfN5kMykBDKTg2SlJJCS4I/7oSgiIkNVJGovGbzOD29tvYayS4e3rrAX83i597XFCvoNiQEXrBIDfhKDPkLeY1LQT3ooGNPL1t0T1xnMepT1Evy2bFzPrTffdN0Ml5TLp4AoIj21N7uewQOrXSCs2e3Kk3NcGBy/HIqWE00fxv6G/Wyp3sKWDf/AluotVDVXAZAUSGJm3ky+OvOrzM6fzYy8GaQEr98ZHwN+X9eQ0w8TjVoaWjo43dRGTVMbp5vaOd3URv25DhrOtVN/roP6c+3Un2unsraJhuYOGtvCF71e0G/ISEogPSkA7S38+4H1pIeCpCcFSAsFSQ95j0kB0hKDpIXcfRKdj6kJAQ2XEZHrTud9am3efWRt4Yj3GD3v8fzyyHnn9TyuPRKlrcN7vMQ1O0NdR+TKg5rP0BXEEgO+rsfEoOspS08Kkp+WeMH+zkB2Qcjr9bjzrh3wDfholUMhHxnJWj5qKFNAFLnRRSNwYhscWM3MrS/CO/sg0g7+RBizCGaugPHLac2ZyM66CrbWbGVz+T+wtWYrje2NAOQm5TI7fzYPT32Y2QWzKc4qJuC7Mf978fkM2SkJZKckXHRo6/k6IlEavADZ0NJBfXM7DV1BsoMzLe2cbQ1zuKqVxlZ3X+XZ1jCNrR0fei+HMZCaGCAtMUByYoCUxAApCe7m+9REvyvr2g6QnOgnJcEdd7alA5/PsP9UI8kJAVIS3H4N8xEZOqy1RKLu/rPOANXhfXVv257bsceF3TT/7eGe57VFzg9dUdq98HapgNfc2k70jd/RHumfqf0T/C40JQRiH/1d24lBH6mJgR5lnceELhrKukPbpY7T/5Vyvbox/4ITudHVH+4eMnrwD9BSD0AwZRws+AoULae+YCpb6/e4IaNb/h92nd5FOOp6uooyirhjzB3MKZjD7PzZjEwdqSEmVyHo95GXlkheWuIlj1u7di3Lli3pUdYejtLY2kFja5iznY8t3dtnve3mtjDN7WGa29wU38cbWjjnbTe3hXtdWPezjQkA/M3/ebtHecBneh+eFOwewnT+vlDXMb6uoUydf1h1/VHmd3+gJQR8BP3GlceUaYkSiWedQSscdWEqHLF0RN1jOGIJR6M99oWjLnj1PM4dE7uv+7nbFxvSOiJR2r1g1xET7Nq6trv3tceEt46I7Qp57ZEo9so7yS7K/fy6AJbgd71mCTHboaCP9FDggrB26kQV48eN6XFsYtB/3rXc/xc9ty98jQS/TyMoRK6AAqLIjaD1DBx8pzsU1h1w5WnDYNJd2KLlVBVO5vny39GS2sKWnU9T+V4lAAFfgJKcEtc7mDebWfmzyAplDeKbkVgJAR853qQ4VyMStZxrD3Ou3QXG5rYIm3+4h2jU8vS9oznXFqbZ2xc7yUH3bHfusbE1TE1j2wVTj7ddwVTj5/MZ934T/D4SAu5T+s4g2V3uI+j1GPh9hoDfR8Bn8PsMQZ8Pv98Q8BkCPh8Bf2e5we9tdx3r984//xp+d6zf5+5h9RmDz4DfGIwx7K2LkHKoDp/p3u/24Y710XWOr+t8b7+v57U6r9EXfTmqr5/hRK0LOz0ecY9R776oqFcetRZ7/nHRmHJ6P6638yJRS9RaIlGIRKNEohCORi8oi1hLJBIlYrvLotaFqYi1RL2Q1lkWjQlu0ajl+Ik2fl29lUjUdn9Z22M7HO0MeF4wOy/EdZVHe4a4ayXod/9GO/+9J/i7fxaC/u4yd79ZoOvYBG9fMGBI8Pu9R9951+p5nc6fp6D3GsHzfta6PtCJuU7AZ674Q8O1a0+zbNnkfv6OicjlUEAUGYoiHXB8U/fyE8c2go1AMAXGLsGWPsrBgkls7KhjU/UmNu17luqt1QCkNaYxK28W94y/h9n5s5mWM41Q4MPvvZPrm99nSAsFSQt131ey33t+78zhV339aNTdT9Rz3aruiR26hreFo7RHInSEbdcQtc6vzl6Q2OFoscPeOo9r7Ahz2pvkobPXJhyxPbYj3h/8nUPr+tWGdf17Pbksfi/M+40L+L7Oba+soz3CkZb6HmWdz30+g9+4+44Tgz5SfC78dH6gEPQ+LAj0WuYjGPOBQsDfsyz2Ohcc73cfYLjreR9YeB9UxO4LeEFMIzZEZCApIIoMBdbC6QNeD+Fq11vY3ggYGD6byJI/YV/BJDaZNjbVbGPzkReo2+fWH8xNymVuwVzmFszFHrGsuH1Fvy83IeLzma71p+JRZ3jsDIyxvUidvU+xPUauB627Nywadc+3bN3KjBkzXa+Vta6HLNrd49bZY9a1z/bscYvEXrePsxjaPowP7GsEttb11Pp8Mb2YdPd4Ynr2gJquntLu42J7Py96HhceZ7ygFvC5XtWA3+uB9XUHvc59XeEu9njvmA/jhmov6+N3RETkxqOAKHK9Olfnlp84sNo9njnqyjNH01HySXYVTGRT0Memugq2nHqNpuO/AGBE6giWjljaFQpHp43u+jR67cm1CodyQ3Jh4+rDa9tRP0sn5vZDjURERAaHAqLI9SLcBkfKuu8jPLENsJCYQcvYJWyf/Sk2JQTZ1FjJ9poyWuvXAm5CmbvG3dUVCAtTLrHgn4iIiIjc0AY0IBpj7gS+DfiB56y1/3je/s8Dj3ubTcDXrLXbvH2HgEYgAoSttfMGsq4iccdaOFXRfR/h4feh4xz4AjSOnMuWBSvZFAqx6dxxdtVVED68E4PpWpB+bsFcZufPJicpZ7DfiYiIiIhcJwYsIBpj/MB3gNuBY0C5MeZla21FzGEHgVustfXGmLuAZ4EFMfuXW2trB6qOInGn8aQ3bHSNe2w6CUBd7gQ2T/0Im5JT2dR6ij0NH2BPneiaYXTl1JVdgTAtoW9r74mIiIiInG8gexDnA/uttZUAxpifAfcBXQHRWvt+zPFlwMgBrI9I/Gk/53oGOyeXOeV+PKpTctg4soRNqaVsaq+jsukonN1KqDnEzLyZfG3m15hbMJfpedNJCiQN8psQERERkaHC9GX2syu6sDEPAHdaax/1th8GFlhrv3mR4/8CmBxz/EGgHjf52r9aa5+9yHmPAY8B5OXlzf35z3/e7+9F+kdTUxOpqamDXY3BZaOkNlWSXbeVrPqtZJzZjc+GORFI4O3sItanZLDN18KpaAMAIROiKFTEhMQJTAhNYFTCKAJm4D7XURvFt2vdPgffcmsXjrtNExf1lX6G4p/aKL6pfeKf2ij+LV++fNPV3J43kD2Ivc013WsaNcYsBx4BlsYUL7HWVhlj8oE3jDF7rLVvX3BBFxyfBSguLraaujp+3bBTizcc6b6PsPIP0FLHSb+fdwvGs3H4QsrtOY621gLnSEvwM7dgLl8oKGVe4TyKs4r7ZWbFvrph2+g6ca3bp37TZgCWLZtzzV7zeqefofinNopvap/4pzYa+gYyIB4DRsVsjwSqzj/IGDMDeA64y1p7urPcWlvlPZ4yxryIG7J6QUAUiTutZ+HQO92h8PR+Tvr9lGcWsHFUEeVmFEfb64FW0iL1zCuYx+cKSyktLGVi5sRrGghFRERERGINZEAsByYaY8YBx4EVwIOxBxhjRgO/Ah621u6LKU8BfNbaRu/5HcDfD2BdRa5cJAzHN3UvP3GsnJM+KE9NpzxnJOU5JRzrOAtAumllbsFcBUIRERERiUsDFhCttWFjzDeB3+OWufiBtXaXMear3v7vA08COcB3vYW6O5ezKABe9MoCwE+sta8NVF1FLou1UFfZvUD9wbc5EW5mY1KI8uzhlI+fxLFIMwDpQcu8gnl8vjMQZk3UQvQiIiIiErcGdB1Ea+2rwKvnlX0/5vmjwKO9nFcJzBzIuolclnN1cPAProfwwBpONB2nPClEeXoO5SMLOR5tBSAjMeQCYcE8BUIRERERue4MaEAUuW6F2+DoBq+XcA1Vp3awMZRIeUoq5dlpHM8eAUBGQgbzCufxcGEp8wrmKRCKiIiIyHVNAVEE3LDRmj0uEB5Yw4lj69gQsJSHQmxMTef4qOEAZCZmMq9gHg8XzlMgFBEREZEhRwFRblyN1e4ewso11B5cS3nkDOtDITakpnJ0WDYAmQkZzCss5eFCN2R0QuYEBUIRERERGbIUEOXG0X4OjrwPB9ZwpnINGxsrXSBMTuZAThDIJS2QwtxhpTxYuED3EIqIiIjIDUcBUYauaBRObofKNTQdeJPNp7axIdHPhqQk9iQFscl5JPkSmFM4j3uHLWBB4QImZ0/WshMiIiIicsNSQJSh5cwxOLCGlv1vsLXqfTaYdjaEQuxKTCSSn0WCCTAzbwZfH76IBcMWUJJTQtAfHOxai4iIiIjEBQVEub61NcKhd+nY/ybbD69hQ3sNG0IhtoUS6chKIkAKJdmT+fKIJSwYtoCZeTMJBUKDXWsRERERkbikgCjXl0gYqjYT3v8Wuw++wfqzB9gQCrI1MURLisGkZDIlvYjPj7yJ+cMWMKdgDinBlMGutYiIiIjIdUEBUeKbtVBXSfTAavbt/x0barezIQibQok0+X2Qlc6E5OHcP+pmSocvZF7BPDISMwa71iIiIiIi1yUFRIk/5+qwlX/g4P7fsuHEejbYc5SHEmnw+yEjiTGJOdw1YjHzR91MaUEpOUk5g11jEREREZEhQQFRBl+4HY5toGrvK5Qd/QPr26rZEApRG/BDMgwLFHBLYSkLxtxG6bD5FKYUDnaNRURERESGJAVEufashZq91O97lQ0Hf0/Z2UrWJ/o5GgxCEHISc5ifO4MF4z7K/OGLGJk2EmPMYNdaRERERGTIU0CUa6PpFOkn3+TdVd9nfe12yvwR9iQmAJCSlkJpxiQeHHc7C0ctZ3zmeAVCEREREZFBoIAoA6OjhY6D77Br30usO7GB9ZEzbAslEjaGYHKAWSlj+eaoW1gw7qOU5JYQ8OmfooiIiIjIYNNf5dI/olHsye18sPtXrD/2NmUtVWxMDHLO58MEYXLqcO4w47hv6SPMLpxHUiBpsGssIiIiIiLnUUCUK3fmOMf3vMT6yt9TduYD1icY6vx+AMakZnN37kwWTryb0hE3kRnKZO3atSweedMgV1pERERERC5GAVH6rq2R+g9eZ/2+l1h/egfrTaubWAbITU5iUcYkFhTdycJxH2VY6rBBrqyIiIiIiFwuBUS5uEiYc0fL2Lx7FetPbqAsXM+eBBcIUxJ8lKZM4POjlrFg0n2Mz5ygiWVERERERK5zCojSQ0ftB+zc9TPKjv2BsubjbE/wu4llDMxKHca3hi1kQfH9TCuYrYllRERERESGGP2Ff4Oz5+rYV7GK9Qd/z/ozH7DRH3UTy1jLlORMHs6dycKJn2D2mFs0sYyIiIiIyBCngHijCbdzfP/vWL/v15TVbmc957onlgkmcE9mMQuK7mT+xHvJCGUObl1FREREROSaUkAc6qzlzInNlO/6GetOlLGu4zRHAy4Q5vp8LEopYuGo5Syc+hkK00cNcmVFRERERGQwKSAOQR1nq9i648esO7qGsqYj7ApA1BiSLcxPKuDzwxaycMpnKCqYpYllRERERESkiwLiEGDbz7F/z69Yt/+3lDXsYaNpp8Xnw28tJYmpPJYznUWTPsH0ojsI+oKDXV0REREREYlTCojXo2iUmiPvULZ7FetObaIscoYa7z7Csb4A96VPYdG4j1I65dOk6T5CERERERHpIwXE68S5uko27niedcffoayliv0BHwBZFhYmj2LhiKUsmvY5hmVPGOSaioiIiIjI9UoBMU5FWs5QUfFz1h18jXVn9rPVHyFsDAnWMicxk3vy57Jo8gMUj1qKz/gGu7oiIiIiIjIEKCDGi2iEo/tfZ92+X7Kudjvro800+l3wmxJI5OHMEhZN+DizJ36CUELyIFdWRERERESGIgXEQXSmegdlO39M2Yky1rXVcNwbNlpoDR9JG8eiUctYMO3zZKcNG+SaioiIiIjIjUAB8RpqbzrF1p0/Yd2Rt1jXeIgKv8UaQ2rUUhrK4wvD5rNoygrGFM7W8hMiIiIiInLNKSAOIBtuZ9/elyj74Desq69gE620+nwErGVGMJmvZZewaNInKBl/FwG/lp8QEREREZHBpYDYn6yl+lgZZbtfYN3JjZSF6znt3Uc4zvi5P62YRWNvZ97Uz5KalD3IlRUREREREelJAfEqNTccYePO51l39A+sO3ecyoAbGpodhYVJw1k0YgkLp32OwpziQa6piIiIiIjIpSkgXqZwWxO7dq9iXeXvWNewj+2+MGFjSLSWuQnpfDJvFouKH2Di2GVafkJERERERK4rCogfwkajHDn4Juv2/op1NVspjzbS6PNhrGWKL4EvZE5nUdFdzJryAIlBLT8hIiIiIiLXLwXEXtTX7GH9rh9Tdvx91rVVU+V3w0aHRw13JI9h4ahbWFDyIFnpowa5piIiIiIiIv1HARFoa6ljy86fsO7Qm6xrPMgeXwRrDGlRy/yEbL5cWMqiKSsYNXyelp8QEREREZEh64YMiNFIB/s++A3r9r1MWd0uNtkW2nyGgLXM9CfxjexpLJxwD9Mm3kMgkDDY1RUREREREbkmbpiAeLJqE+sqfsq6kxtY336aOm/5ifHWx6dTx7No7EeYN+1BkpNzBrmmIiIiIiIig2NAA6Ix5k7g24AfeM5a+4/n7Tfe/o8B54AvWms39+XcD9PUWEX5judZd3Qt65qPcsjvynOjlsWhQhYNW8TCkgfJz5t6Ve9RRERERERkqBiwgGiM8QPfAW4HjgHlxpiXrbUVMYfdBUz0vhYA3wMW9PHcC4TDjXzvpc+xrn4v2007EWNIilrmBFJ5IHcmi4rvZ+K42zE+LT8hIiIiIiJyvoHsQZwP7LfWVgIYY34G3AfEhrz7gB9Zay1QZozJNMYMA8b24dwLVEXr+V7DDqYR5MvpU1lUdCczp3yGhMTUfn9zIiIiIiIiQ81ABsQRwNGY7WO4XsIPO2ZEH88FwBjzGPCYt9m240u7du4AfsZWYBXwyBVWXwZALlA72JWQS1IbxbfBaZ+/uOaveD3Tz1D8UxvFN7VP/FMbxb/iqzl5IANib+tB2D4e05dzXaG1zwLPAhhjNlpr511OJeXaUfvEP7VRfFP7xD+1UfxTG8U3tU/8UxvFP2PMxqs5fyAD4jEgdiX5kUBVH49J6MO5IiIiIiIi0o8GcraWcmCiMWacMSYBWAG8fN4xLwMrjbMQOGOtPdHHc0VERERERKQfDVgPorU2bIz5JvB73FIVP7DW7jLGfNXb/33gVdwSF/txy1x86VLn9uFln+3/dyL9SO0T/9RG8U3tE//URvFPbRTf1D7xT20U/66qjYybQFRERERERERudFoQUERERERERAAFRBEREREREfEMiYBojLnTGLPXGLPfGPOXg12fG5Ux5gfGmFPGmJ0xZdnGmDeMMR94j1kx+/7Ka7O9xpiPDk6tbxzGmFHGmDXGmN3GmF3GmD/xytVGccIYEzLGbDDGbPPa6O+8crVRHDHG+I0xW4wxr3jbap84Yow5ZIzZYYzZ2jnVu9oovhhjMo0xvzDG7PF+Jy1SG8UHY0yx97PT+XXWGPOnap/4Yoz5M+/vhJ3GmJ96fz/0Wxtd9wHRGOMHvgPcBUwFPmeMmTq4tbph/Sdw53llfwm8Za2dCLzlbeO10QpgmnfOd722lIETBv7cWjsFWAh8w2sHtVH8aANutdbOBGYBd3ozPKuN4sufALtjttU+8We5tXZWzFptaqP48m3gNWvtZGAm7udJbRQHrLV7vZ+dWcBc3CSSL6L2iRvGmBHAHwPzrLUluAk9V9CPbXTdB0RgPrDfWltprW0HfgbcN8h1uiFZa98G6s4rvg/4off8h8AnYsp/Zq1ts9YexM1kO/9a1PNGZa09Ya3d7D1vxP1CHoHaKG5Yp8nbDHpfFrVR3DDGjAQ+DjwXU6z2iX9qozhhjEkHbgb+HcBa226tbUBtFI9uAw5Yaw+j9ok3ASDJGBMAknHrxfdbGw2FgDgCOBqzfcwrk/hQ4K1tifeY75Wr3QaRMWYsMBtYj9oornjDF7cCp4A3rLVqo/jyz8D/AKIxZWqf+GKB140xm4wxj3llaqP4UQTUAP/hDdV+zhiTgtooHq0Afuo9V/vECWvtceD/BY4AJ3DryL9OP7bRUAiIppcyrd0R/9Rug8QYkwr8EvhTa+3ZSx3aS5naaIBZayPe0J6RwHxjTMklDlcbXUPGmLuBU9baTX09pZcytc/AW2KtnYO79eQbxpibL3Gs2ujaCwBzgO9Za2cDzXhD4S5CbTQIjDEJwL3Aqg87tJcytc8A8u4tvA8YBwwHUowxD13qlF7KLtlGQyEgHgNGxWyPxHWzSnyoNsYMA/AeT3nlardBYIwJ4sLhj621v/KK1UZxyBtytRZ3v4DaKD4sAe41xhzC3c5wqzHmedQ+ccVaW+U9nsLdOzUftVE8OQYc80ZHAPwCFxjVRvHlLmCztbba21b7xI+PAAettTXW2g7gV8Bi+rGNhkJALAcmGmPGeZ92rABeHuQ6SbeXgS94z78A/DqmfIUxJtEYMw6YCGwYhPrdMIwxBnfPx25r7f+J2aU2ihPGmDxjTKb3PAn3S2APaqO4YK39K2vtSGvtWNzvmtXW2odQ+8QNY0yKMSat8zlwB7ATtVHcsNaeBI4aY4q9otuACtRG8eZzdA8vBbVPPDkCLDTGJHt/292Gm1ei39ooMCDVvoastWFjzDeB3+Nm8fmBtXbXIFfrhmSM+SmwDMg1xhwD/ifwj8DPjTGP4P5BfxrAWrvLGPNz3C+FMPANa21kUCp+41gCPAzs8O5xA/hr1EbxZBjwQ292MR/wc2vtK8aYdaiN4pl+huJHAfCi+5uJAPATa+1rxphy1Ebx5FvAj70P9iuBL+H9n6c2GnzGmGTgduArMcX6fy5OWGvXG2N+AWzGfc+3AM8CqfRTGxlrNUxYREREREREhsYQUxEREREREekHCogiIiIiIiICKCCKiIiIiIiIRwFRREREREREAAVEERERERER8SggiojIgDDG/H/GmD+N2f69Mea5mO3/bYz5b8aYe40xf9lPr/mfxpgH+uNavV3TGPOcMWZqf17fu27EGLPVGDPc2266gmt8zhjzf13BeX9tjGk3xjx8XvnnjTHbva/3jTEzvfIkr67txpjcy309ERGJbwqIIiIyUN4HFgMYY3xALjAtZv9i4D1r7cvW2n8chPpdNmvto9baigG4dIu1dpa1tuoqrnEn8NrlnGCMeQj4KDAV+HNjzO0xuw8Ct1hrZwBP4dbZwlrbYq2dBVxNXUVEJE4pIIqIyEB5Dy8g4oLhTqDRGJNljEkEpgBbjDFfNMY8A129dU97PVaVMT13PmPMd40xu4wxrxhjXu1rT6ExJmSM+Q9jzA5jzBZjzHKvfKwx5h1jzGbvqzPMGmPMM8aYCmPMb4H8mGutNcbM8543GWP+wRizzRhTZowp8MrHe9vlxpi/v5LewJjXyzXGrDPGfPxS3wPjVoafBWw2xvytMeaHxpjXjTGHjDH3G2P+b+/9v2aMCXrnfAT4AvAxa+1+4A7g74wxswCste9ba+u9qpQBI6/0fYiIyPVDAVFERAaE1xsWNsaMxgXFdcB6YBEwD9hurW3v5dRhwFLgbqCzZ/F+YCwwHXjUu0ZffcOrz3Tgc8APjTEh4BRwu7V2DvBZ4Gnv+E8Cxd5r/RHdIfd8KUCZtXYm8LZ3LMC3gW9ba0u5il42L3D+FnjSWvtbLv09mA1ss9Zab3s88HHgPuB5YI33/lu8cqy1b1prb7fWNnvbp6y1i621W3upziPA7670vYiIyPVDAVFERAZSZy9iZ0BcF7P9/kXOeclaG/WGchZ4ZUuBVV75SWDNZdRhKfBfANbaPcBhYBIQBP7NGLMDWIUbZglwM/BTa23EC7mrL3LdduAV7/kmXHgDF9xWec9/chn1jBUE3gL+h7X2jZj3cbHvwZ30DHC/s9Z2ADsAP91DT3fE1LNPvB7XR4DHL/dNiIjI9UcBUUREBlLnfYjTcUNMy3ABajEuPPamLea5Oe/xSlzs3D8DqoGZuB7NhJh9ttczeuqI6bGLAIErruGFwrjQ+dGYskt9D+4AXo/ZbgOw1kbPq2f0cuppjJkBPAfcZ6093dfzRETk+qWAKCIiA+k93FDROq9Hrg7IxIXEdZdxnXeBT3n34RUAyy7j3LeBzwMYYyYBo4G9QAZwwgtRD+N62jqPX2GM8RtjhgHLL+O1wIXgT3nPV8TuMMbs6eM1LPBlYHLMDK+9fg+MMRlAoL8DnDc0+FfAw9baff15bRERiV/9+WmniIjI+XbgZi/9yXllqdba2su4zi+B23C9kPtw9zKeucix/2qM+Wfv+VFcwPu+N5Q0DHzRWttmjPku8EtjzKdxwzWbvXNeBG716rkP+MNl1BPgT4HnjTF/jruH8Ay4CWe4jJ5Qa23EGLMC+I0x5izwfXr/HtwOvHmZdeyLJ4Ec4LtuDhzC1tp5A/A6IiISR0z3qBMREZH4ZYxJtdY2GWNygA3AEu9evLhijEnGLVthvYD3OWvtfcaYu4Eia+3TvZzTZK1N7cO1L/geAP8LeM5aW9bPb+XD6nIImHeZQV9EROKcehBFROR68YoxJhN3r+BT8RgOPXOBZ7ylJxpwQ0Wx1r5yiXPOGmO24pacuNTMp719Dx7tj0r3lTEmCTc8OIi7p1FERIYQ9SCKiIiIiIgIoElqRERERERExKOAKCIiIiIiIoACooiIiIiIiHgUEEVERERERARQQBQRERERERHP/w/77ROEWX3+GAAAAABJRU5ErkJggg==\n",
      "text/plain": [
       "<Figure size 1080x504 with 1 Axes>"
      ]
     },
     "metadata": {
      "needs_background": "light"
     },
     "output_type": "display_data"
    }
   ],
   "source": [
    "constraint_analysis(\n",
    "    t_w_funcs=[T_W_cruise, T_W_takeoff_distance, T_W_takeoff_distance_vectored, T_W_hover],\n",
    "    w_s_funcs=[W_S_landing]\n",
    ")"
   ]
  }
 ],
 "metadata": {
  "kernelspec": {
   "display_name": "Python 3",
   "language": "python",
   "name": "python3"
  },
  "language_info": {
   "codemirror_mode": {
    "name": "ipython",
    "version": 3
   },
   "file_extension": ".py",
   "mimetype": "text/x-python",
   "name": "python",
   "nbconvert_exporter": "python",
   "pygments_lexer": "ipython3",
   "version": "3.7.9"
  }
 },
 "nbformat": 4,
 "nbformat_minor": 4
}
